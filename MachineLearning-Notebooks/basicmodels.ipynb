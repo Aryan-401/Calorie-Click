{
 "cells": [
  {
   "cell_type": "code",
   "execution_count": 1,
   "id": "48999b16",
   "metadata": {
    "execution": {
     "iopub.execute_input": "2023-11-30T14:30:00.191759Z",
     "iopub.status.busy": "2023-11-30T14:30:00.191347Z",
     "iopub.status.idle": "2023-11-30T14:30:00.419016Z",
     "shell.execute_reply": "2023-11-30T14:30:00.417854Z"
    },
    "papermill": {
     "duration": 0.237114,
     "end_time": "2023-11-30T14:30:00.421584",
     "exception": false,
     "start_time": "2023-11-30T14:30:00.184470",
     "status": "completed"
    },
    "tags": []
   },
   "outputs": [],
   "source": [
    "import os\n",
    "import cv2\n",
    "import numpy as np\n",
    "\n",
    "\n",
    "def preprocess_image(image, step='full', resize=64):\n",
    "    if step not in ['full', 'half']:\n",
    "        raise ValueError()\n",
    "\n",
    "    if step == 'half':\n",
    "        return cv2.resize(image, (resize, resize))\n",
    "    else:\n",
    "        return cv2.resize(image, (224, 224)).flatten().astype('float32')\n",
    "\n",
    "\n",
    "def get_images(t: str = \"Train\", resize: int = 64):\n",
    "    img = []\n",
    "    label = []\n",
    "    t = t.capitalize()\n",
    "\n",
    "    if t not in [\"Train\", \"Test\", \"Validate\"]:\n",
    "        raise ValueError()\n",
    "\n",
    "    folders = os.listdir(f'/kaggle/input/indian-food-16/{t}')\n",
    "\n",
    "    for folder in folders:\n",
    "        for image in os.listdir(f'/kaggle/input/indian-food-16/{t}/{folder}'):\n",
    "            img_og = cv2.imread(f\"/kaggle/input/indian-food-16/{t}/{folder}/{image}\")\n",
    "            img.append(preprocess_image(img_og, resize=resize))\n",
    "            label.append(folders.index(folder))\n",
    "\n",
    "    img = np.array(img)\n",
    "    label = np.array(label)\n",
    "    return img, label"
   ]
  },
  {
   "cell_type": "code",
   "execution_count": 2,
   "id": "4fa90cae",
   "metadata": {
    "execution": {
     "iopub.execute_input": "2023-11-30T14:30:00.433331Z",
     "iopub.status.busy": "2023-11-30T14:30:00.432974Z",
     "iopub.status.idle": "2023-11-30T14:30:29.536795Z",
     "shell.execute_reply": "2023-11-30T14:30:29.535691Z"
    },
    "papermill": {
     "duration": 29.111894,
     "end_time": "2023-11-30T14:30:29.539478",
     "exception": false,
     "start_time": "2023-11-30T14:30:00.427584",
     "status": "completed"
    },
    "tags": []
   },
   "outputs": [
    {
     "name": "stdout",
     "output_type": "stream",
     "text": [
      "Training Data Loading...\n",
      "Testing Data Loading...\n",
      "Validating Data Loading...\n"
     ]
    }
   ],
   "source": [
    "print(\"Training Data Loading...\")\n",
    "i_tr, l_tr = get_images(\"Train\")\n",
    "print(\"Testing Data Loading...\")\n",
    "i_te, l_te = get_images(\"Test\")\n",
    "print(\"Validating Data Loading...\")\n",
    "i_va, l_va = get_images(\"Validate\")"
   ]
  },
  {
   "cell_type": "code",
   "execution_count": 3,
   "id": "11f0c1e1",
   "metadata": {
    "execution": {
     "iopub.execute_input": "2023-11-30T14:30:29.549755Z",
     "iopub.status.busy": "2023-11-30T14:30:29.549382Z",
     "iopub.status.idle": "2023-11-30T14:30:31.038422Z",
     "shell.execute_reply": "2023-11-30T14:30:31.037306Z"
    },
    "papermill": {
     "duration": 1.497242,
     "end_time": "2023-11-30T14:30:31.041166",
     "exception": false,
     "start_time": "2023-11-30T14:30:29.543924",
     "status": "completed"
    },
    "tags": []
   },
   "outputs": [],
   "source": [
    "i_tr = np.concatenate((i_tr, i_va), 0)\n",
    "l_tr = np.concatenate((l_tr, l_va), 0)"
   ]
  },
  {
   "cell_type": "code",
   "execution_count": 4,
   "id": "7e02ebf6",
   "metadata": {
    "execution": {
     "iopub.execute_input": "2023-11-30T14:30:31.051391Z",
     "iopub.status.busy": "2023-11-30T14:30:31.051006Z",
     "iopub.status.idle": "2023-11-30T14:30:31.057225Z",
     "shell.execute_reply": "2023-11-30T14:30:31.056127Z"
    },
    "papermill": {
     "duration": 0.014454,
     "end_time": "2023-11-30T14:30:31.059871",
     "exception": false,
     "start_time": "2023-11-30T14:30:31.045417",
     "status": "completed"
    },
    "tags": []
   },
   "outputs": [
    {
     "name": "stdout",
     "output_type": "stream",
     "text": [
      "Training Data Information\n",
      "(5207, 150528)\n",
      "(5207,)\n",
      "Testing Data Information\n",
      "(1294, 150528)\n",
      "(1294,)\n"
     ]
    }
   ],
   "source": [
    "print(\"Training Data Information\")\n",
    "print(i_tr.shape)\n",
    "print(l_tr.shape)\n",
    "print(\"Testing Data Information\")\n",
    "print(i_te.shape)\n",
    "print(l_te.shape)"
   ]
  },
  {
   "cell_type": "code",
   "execution_count": 5,
   "id": "9d050a2c",
   "metadata": {
    "execution": {
     "iopub.execute_input": "2023-11-30T14:30:31.071928Z",
     "iopub.status.busy": "2023-11-30T14:30:31.070029Z",
     "iopub.status.idle": "2023-11-30T14:30:48.030204Z",
     "shell.execute_reply": "2023-11-30T14:30:48.029271Z"
    },
    "papermill": {
     "duration": 16.968335,
     "end_time": "2023-11-30T14:30:48.032741",
     "exception": false,
     "start_time": "2023-11-30T14:30:31.064406",
     "status": "completed"
    },
    "tags": []
   },
   "outputs": [
    {
     "name": "stdout",
     "output_type": "stream",
     "text": [
      "Done with Training, Doing Testing\n"
     ]
    }
   ],
   "source": [
    "from sklearn.preprocessing import StandardScaler\n",
    "\n",
    "scaler = scaler = StandardScaler()\n",
    "i_tr = scaler.fit_transform(i_tr)\n",
    "print(\"Done with Training, Doing Testing\")\n",
    "i_te = scaler.fit_transform(i_te)"
   ]
  },
  {
   "cell_type": "code",
   "execution_count": 6,
   "id": "ef4c016e",
   "metadata": {
    "execution": {
     "iopub.execute_input": "2023-11-30T14:30:48.043817Z",
     "iopub.status.busy": "2023-11-30T14:30:48.042923Z",
     "iopub.status.idle": "2023-11-30T14:30:48.047535Z",
     "shell.execute_reply": "2023-11-30T14:30:48.046580Z"
    },
    "papermill": {
     "duration": 0.012559,
     "end_time": "2023-11-30T14:30:48.049903",
     "exception": false,
     "start_time": "2023-11-30T14:30:48.037344",
     "status": "completed"
    },
    "tags": []
   },
   "outputs": [],
   "source": [
    "accuracy_li = [[0.815], [0.475]]"
   ]
  },
  {
   "cell_type": "code",
   "execution_count": 7,
   "id": "30c71763",
   "metadata": {
    "execution": {
     "iopub.execute_input": "2023-11-30T14:30:48.061033Z",
     "iopub.status.busy": "2023-11-30T14:30:48.060640Z",
     "iopub.status.idle": "2023-11-30T14:34:13.997531Z",
     "shell.execute_reply": "2023-11-30T14:34:13.996416Z"
    },
    "papermill": {
     "duration": 205.949899,
     "end_time": "2023-11-30T14:34:14.004717",
     "exception": false,
     "start_time": "2023-11-30T14:30:48.054818",
     "status": "completed"
    },
    "tags": []
   },
   "outputs": [
    {
     "data": {
      "text/html": [
       "<style>#sk-container-id-1 {color: black;background-color: white;}#sk-container-id-1 pre{padding: 0;}#sk-container-id-1 div.sk-toggleable {background-color: white;}#sk-container-id-1 label.sk-toggleable__label {cursor: pointer;display: block;width: 100%;margin-bottom: 0;padding: 0.3em;box-sizing: border-box;text-align: center;}#sk-container-id-1 label.sk-toggleable__label-arrow:before {content: \"▸\";float: left;margin-right: 0.25em;color: #696969;}#sk-container-id-1 label.sk-toggleable__label-arrow:hover:before {color: black;}#sk-container-id-1 div.sk-estimator:hover label.sk-toggleable__label-arrow:before {color: black;}#sk-container-id-1 div.sk-toggleable__content {max-height: 0;max-width: 0;overflow: hidden;text-align: left;background-color: #f0f8ff;}#sk-container-id-1 div.sk-toggleable__content pre {margin: 0.2em;color: black;border-radius: 0.25em;background-color: #f0f8ff;}#sk-container-id-1 input.sk-toggleable__control:checked~div.sk-toggleable__content {max-height: 200px;max-width: 100%;overflow: auto;}#sk-container-id-1 input.sk-toggleable__control:checked~label.sk-toggleable__label-arrow:before {content: \"▾\";}#sk-container-id-1 div.sk-estimator input.sk-toggleable__control:checked~label.sk-toggleable__label {background-color: #d4ebff;}#sk-container-id-1 div.sk-label input.sk-toggleable__control:checked~label.sk-toggleable__label {background-color: #d4ebff;}#sk-container-id-1 input.sk-hidden--visually {border: 0;clip: rect(1px 1px 1px 1px);clip: rect(1px, 1px, 1px, 1px);height: 1px;margin: -1px;overflow: hidden;padding: 0;position: absolute;width: 1px;}#sk-container-id-1 div.sk-estimator {font-family: monospace;background-color: #f0f8ff;border: 1px dotted black;border-radius: 0.25em;box-sizing: border-box;margin-bottom: 0.5em;}#sk-container-id-1 div.sk-estimator:hover {background-color: #d4ebff;}#sk-container-id-1 div.sk-parallel-item::after {content: \"\";width: 100%;border-bottom: 1px solid gray;flex-grow: 1;}#sk-container-id-1 div.sk-label:hover label.sk-toggleable__label {background-color: #d4ebff;}#sk-container-id-1 div.sk-serial::before {content: \"\";position: absolute;border-left: 1px solid gray;box-sizing: border-box;top: 0;bottom: 0;left: 50%;z-index: 0;}#sk-container-id-1 div.sk-serial {display: flex;flex-direction: column;align-items: center;background-color: white;padding-right: 0.2em;padding-left: 0.2em;position: relative;}#sk-container-id-1 div.sk-item {position: relative;z-index: 1;}#sk-container-id-1 div.sk-parallel {display: flex;align-items: stretch;justify-content: center;background-color: white;position: relative;}#sk-container-id-1 div.sk-item::before, #sk-container-id-1 div.sk-parallel-item::before {content: \"\";position: absolute;border-left: 1px solid gray;box-sizing: border-box;top: 0;bottom: 0;left: 50%;z-index: -1;}#sk-container-id-1 div.sk-parallel-item {display: flex;flex-direction: column;z-index: 1;position: relative;background-color: white;}#sk-container-id-1 div.sk-parallel-item:first-child::after {align-self: flex-end;width: 50%;}#sk-container-id-1 div.sk-parallel-item:last-child::after {align-self: flex-start;width: 50%;}#sk-container-id-1 div.sk-parallel-item:only-child::after {width: 0;}#sk-container-id-1 div.sk-dashed-wrapped {border: 1px dashed gray;margin: 0 0.4em 0.5em 0.4em;box-sizing: border-box;padding-bottom: 0.4em;background-color: white;}#sk-container-id-1 div.sk-label label {font-family: monospace;font-weight: bold;display: inline-block;line-height: 1.2em;}#sk-container-id-1 div.sk-label-container {text-align: center;}#sk-container-id-1 div.sk-container {/* jupyter's `normalize.less` sets `[hidden] { display: none; }` but bootstrap.min.css set `[hidden] { display: none !important; }` so we also need the `!important` here to be able to override the default hidden behavior on the sphinx rendered scikit-learn.org. See: https://github.com/scikit-learn/scikit-learn/issues/21755 */display: inline-block !important;position: relative;}#sk-container-id-1 div.sk-text-repr-fallback {display: none;}</style><div id=\"sk-container-id-1\" class=\"sk-top-container\"><div class=\"sk-text-repr-fallback\"><pre>RandomForestClassifier(n_estimators=101)</pre><b>In a Jupyter environment, please rerun this cell to show the HTML representation or trust the notebook. <br />On GitHub, the HTML representation is unable to render, please try loading this page with nbviewer.org.</b></div><div class=\"sk-container\" hidden><div class=\"sk-item\"><div class=\"sk-estimator sk-toggleable\"><input class=\"sk-toggleable__control sk-hidden--visually\" id=\"sk-estimator-id-1\" type=\"checkbox\" checked><label for=\"sk-estimator-id-1\" class=\"sk-toggleable__label sk-toggleable__label-arrow\">RandomForestClassifier</label><div class=\"sk-toggleable__content\"><pre>RandomForestClassifier(n_estimators=101)</pre></div></div></div></div></div>"
      ],
      "text/plain": [
       "RandomForestClassifier(n_estimators=101)"
      ]
     },
     "execution_count": 7,
     "metadata": {},
     "output_type": "execute_result"
    }
   ],
   "source": [
    "from sklearn.ensemble import RandomForestClassifier\n",
    "\n",
    "random_forest = RandomForestClassifier(n_estimators=101)\n",
    "random_forest.fit(i_tr, l_tr)"
   ]
  },
  {
   "cell_type": "code",
   "execution_count": 8,
   "id": "34fcf661",
   "metadata": {
    "execution": {
     "iopub.execute_input": "2023-11-30T14:34:14.016384Z",
     "iopub.status.busy": "2023-11-30T14:34:14.015994Z",
     "iopub.status.idle": "2023-11-30T14:34:14.204891Z",
     "shell.execute_reply": "2023-11-30T14:34:14.203335Z"
    },
    "papermill": {
     "duration": 0.197742,
     "end_time": "2023-11-30T14:34:14.207418",
     "exception": false,
     "start_time": "2023-11-30T14:34:14.009676",
     "status": "completed"
    },
    "tags": []
   },
   "outputs": [
    {
     "name": "stdout",
     "output_type": "stream",
     "text": [
      "Classification Report:\n",
      "              precision    recall  f1-score   support\n",
      "\n",
      "           0       0.36      0.31      0.33        88\n",
      "           1       0.21      0.21      0.21       108\n",
      "           2       0.31      0.55      0.40       119\n",
      "           3       0.47      0.44      0.45        94\n",
      "           4       0.20      0.15      0.17       102\n",
      "           5       0.44      0.37      0.40        68\n",
      "           6       0.00      0.00      0.00        12\n",
      "           7       0.29      0.22      0.25        94\n",
      "           8       0.48      0.48      0.48        91\n",
      "           9       0.52      0.15      0.23        82\n",
      "          10       0.25      0.42      0.31       126\n",
      "          11       0.36      0.27      0.31        84\n",
      "          12       0.21      0.21      0.21       126\n",
      "          13       0.28      0.25      0.26       100\n",
      "\n",
      "    accuracy                           0.31      1294\n",
      "   macro avg       0.31      0.29      0.29      1294\n",
      "weighted avg       0.32      0.31      0.30      1294\n",
      "\n"
     ]
    },
    {
     "name": "stderr",
     "output_type": "stream",
     "text": [
      "/opt/conda/lib/python3.10/site-packages/sklearn/metrics/_classification.py:1344: UndefinedMetricWarning: Precision and F-score are ill-defined and being set to 0.0 in labels with no predicted samples. Use `zero_division` parameter to control this behavior.\n",
      "  _warn_prf(average, modifier, msg_start, len(result))\n",
      "/opt/conda/lib/python3.10/site-packages/sklearn/metrics/_classification.py:1344: UndefinedMetricWarning: Precision and F-score are ill-defined and being set to 0.0 in labels with no predicted samples. Use `zero_division` parameter to control this behavior.\n",
      "  _warn_prf(average, modifier, msg_start, len(result))\n",
      "/opt/conda/lib/python3.10/site-packages/sklearn/metrics/_classification.py:1344: UndefinedMetricWarning: Precision and F-score are ill-defined and being set to 0.0 in labels with no predicted samples. Use `zero_division` parameter to control this behavior.\n",
      "  _warn_prf(average, modifier, msg_start, len(result))\n"
     ]
    }
   ],
   "source": [
    "from sklearn.metrics import accuracy_score, classification_report\n",
    "\n",
    "predictions = random_forest.predict(i_te)\n",
    "accuracy = accuracy_score(l_te, predictions)\n",
    "report = classification_report(l_te, predictions)\n",
    "accuracy_li.append([accuracy])\n",
    "print(f\"Classification Report:\\n{report}\")\n"
   ]
  },
  {
   "cell_type": "code",
   "execution_count": 9,
   "id": "7b6e290e",
   "metadata": {
    "execution": {
     "iopub.execute_input": "2023-11-30T14:34:14.219815Z",
     "iopub.status.busy": "2023-11-30T14:34:14.218741Z",
     "iopub.status.idle": "2023-11-30T14:34:20.374516Z",
     "shell.execute_reply": "2023-11-30T14:34:20.373384Z"
    },
    "papermill": {
     "duration": 6.164666,
     "end_time": "2023-11-30T14:34:20.377149",
     "exception": false,
     "start_time": "2023-11-30T14:34:14.212483",
     "status": "completed"
    },
    "tags": []
   },
   "outputs": [
    {
     "data": {
      "text/html": [
       "<style>#sk-container-id-2 {color: black;background-color: white;}#sk-container-id-2 pre{padding: 0;}#sk-container-id-2 div.sk-toggleable {background-color: white;}#sk-container-id-2 label.sk-toggleable__label {cursor: pointer;display: block;width: 100%;margin-bottom: 0;padding: 0.3em;box-sizing: border-box;text-align: center;}#sk-container-id-2 label.sk-toggleable__label-arrow:before {content: \"▸\";float: left;margin-right: 0.25em;color: #696969;}#sk-container-id-2 label.sk-toggleable__label-arrow:hover:before {color: black;}#sk-container-id-2 div.sk-estimator:hover label.sk-toggleable__label-arrow:before {color: black;}#sk-container-id-2 div.sk-toggleable__content {max-height: 0;max-width: 0;overflow: hidden;text-align: left;background-color: #f0f8ff;}#sk-container-id-2 div.sk-toggleable__content pre {margin: 0.2em;color: black;border-radius: 0.25em;background-color: #f0f8ff;}#sk-container-id-2 input.sk-toggleable__control:checked~div.sk-toggleable__content {max-height: 200px;max-width: 100%;overflow: auto;}#sk-container-id-2 input.sk-toggleable__control:checked~label.sk-toggleable__label-arrow:before {content: \"▾\";}#sk-container-id-2 div.sk-estimator input.sk-toggleable__control:checked~label.sk-toggleable__label {background-color: #d4ebff;}#sk-container-id-2 div.sk-label input.sk-toggleable__control:checked~label.sk-toggleable__label {background-color: #d4ebff;}#sk-container-id-2 input.sk-hidden--visually {border: 0;clip: rect(1px 1px 1px 1px);clip: rect(1px, 1px, 1px, 1px);height: 1px;margin: -1px;overflow: hidden;padding: 0;position: absolute;width: 1px;}#sk-container-id-2 div.sk-estimator {font-family: monospace;background-color: #f0f8ff;border: 1px dotted black;border-radius: 0.25em;box-sizing: border-box;margin-bottom: 0.5em;}#sk-container-id-2 div.sk-estimator:hover {background-color: #d4ebff;}#sk-container-id-2 div.sk-parallel-item::after {content: \"\";width: 100%;border-bottom: 1px solid gray;flex-grow: 1;}#sk-container-id-2 div.sk-label:hover label.sk-toggleable__label {background-color: #d4ebff;}#sk-container-id-2 div.sk-serial::before {content: \"\";position: absolute;border-left: 1px solid gray;box-sizing: border-box;top: 0;bottom: 0;left: 50%;z-index: 0;}#sk-container-id-2 div.sk-serial {display: flex;flex-direction: column;align-items: center;background-color: white;padding-right: 0.2em;padding-left: 0.2em;position: relative;}#sk-container-id-2 div.sk-item {position: relative;z-index: 1;}#sk-container-id-2 div.sk-parallel {display: flex;align-items: stretch;justify-content: center;background-color: white;position: relative;}#sk-container-id-2 div.sk-item::before, #sk-container-id-2 div.sk-parallel-item::before {content: \"\";position: absolute;border-left: 1px solid gray;box-sizing: border-box;top: 0;bottom: 0;left: 50%;z-index: -1;}#sk-container-id-2 div.sk-parallel-item {display: flex;flex-direction: column;z-index: 1;position: relative;background-color: white;}#sk-container-id-2 div.sk-parallel-item:first-child::after {align-self: flex-end;width: 50%;}#sk-container-id-2 div.sk-parallel-item:last-child::after {align-self: flex-start;width: 50%;}#sk-container-id-2 div.sk-parallel-item:only-child::after {width: 0;}#sk-container-id-2 div.sk-dashed-wrapped {border: 1px dashed gray;margin: 0 0.4em 0.5em 0.4em;box-sizing: border-box;padding-bottom: 0.4em;background-color: white;}#sk-container-id-2 div.sk-label label {font-family: monospace;font-weight: bold;display: inline-block;line-height: 1.2em;}#sk-container-id-2 div.sk-label-container {text-align: center;}#sk-container-id-2 div.sk-container {/* jupyter's `normalize.less` sets `[hidden] { display: none; }` but bootstrap.min.css set `[hidden] { display: none !important; }` so we also need the `!important` here to be able to override the default hidden behavior on the sphinx rendered scikit-learn.org. See: https://github.com/scikit-learn/scikit-learn/issues/21755 */display: inline-block !important;position: relative;}#sk-container-id-2 div.sk-text-repr-fallback {display: none;}</style><div id=\"sk-container-id-2\" class=\"sk-top-container\"><div class=\"sk-text-repr-fallback\"><pre>GaussianNB()</pre><b>In a Jupyter environment, please rerun this cell to show the HTML representation or trust the notebook. <br />On GitHub, the HTML representation is unable to render, please try loading this page with nbviewer.org.</b></div><div class=\"sk-container\" hidden><div class=\"sk-item\"><div class=\"sk-estimator sk-toggleable\"><input class=\"sk-toggleable__control sk-hidden--visually\" id=\"sk-estimator-id-2\" type=\"checkbox\" checked><label for=\"sk-estimator-id-2\" class=\"sk-toggleable__label sk-toggleable__label-arrow\">GaussianNB</label><div class=\"sk-toggleable__content\"><pre>GaussianNB()</pre></div></div></div></div></div>"
      ],
      "text/plain": [
       "GaussianNB()"
      ]
     },
     "execution_count": 9,
     "metadata": {},
     "output_type": "execute_result"
    }
   ],
   "source": [
    "from sklearn.naive_bayes import GaussianNB\n",
    "\n",
    "gnb = GaussianNB()\n",
    "gnb.fit(i_tr, l_tr)"
   ]
  },
  {
   "cell_type": "code",
   "execution_count": 10,
   "id": "abeeb7da",
   "metadata": {
    "execution": {
     "iopub.execute_input": "2023-11-30T14:34:20.389365Z",
     "iopub.status.busy": "2023-11-30T14:34:20.388986Z",
     "iopub.status.idle": "2023-11-30T14:34:39.494368Z",
     "shell.execute_reply": "2023-11-30T14:34:39.493173Z"
    },
    "papermill": {
     "duration": 19.11489,
     "end_time": "2023-11-30T14:34:39.497436",
     "exception": false,
     "start_time": "2023-11-30T14:34:20.382546",
     "status": "completed"
    },
    "tags": []
   },
   "outputs": [
    {
     "name": "stdout",
     "output_type": "stream",
     "text": [
      "Classification Report:\n",
      "              precision    recall  f1-score   support\n",
      "\n",
      "           0       0.21      0.18      0.19        88\n",
      "           1       0.30      0.06      0.09       108\n",
      "           2       0.22      0.48      0.30       119\n",
      "           3       0.16      0.51      0.24        94\n",
      "           4       0.16      0.04      0.06       102\n",
      "           5       0.11      0.21      0.14        68\n",
      "           6       0.06      0.17      0.09        12\n",
      "           7       0.36      0.17      0.23        94\n",
      "           8       0.34      0.41      0.37        91\n",
      "           9       0.25      0.06      0.10        82\n",
      "          10       0.00      0.00      0.00       126\n",
      "          11       0.21      0.24      0.22        84\n",
      "          12       0.17      0.02      0.04       126\n",
      "          13       0.17      0.25      0.20       100\n",
      "\n",
      "    accuracy                           0.20      1294\n",
      "   macro avg       0.19      0.20      0.16      1294\n",
      "weighted avg       0.20      0.20      0.16      1294\n",
      "\n"
     ]
    }
   ],
   "source": [
    "predictions = gnb.predict(i_te)\n",
    "accuracy = accuracy_score(l_te, predictions)\n",
    "report = classification_report(l_te, predictions)\n",
    "accuracy_li.append([accuracy])\n",
    "print(f\"Classification Report:\\n{report}\")\n"
   ]
  },
  {
   "cell_type": "code",
   "execution_count": 11,
   "id": "e4de02d1",
   "metadata": {
    "execution": {
     "iopub.execute_input": "2023-11-30T14:34:39.514420Z",
     "iopub.status.busy": "2023-11-30T14:34:39.513498Z",
     "iopub.status.idle": "2023-11-30T14:54:15.191392Z",
     "shell.execute_reply": "2023-11-30T14:54:15.190224Z"
    },
    "papermill": {
     "duration": 1175.693973,
     "end_time": "2023-11-30T14:54:15.199366",
     "exception": false,
     "start_time": "2023-11-30T14:34:39.505393",
     "status": "completed"
    },
    "tags": []
   },
   "outputs": [
    {
     "data": {
      "text/html": [
       "<style>#sk-container-id-3 {color: black;background-color: white;}#sk-container-id-3 pre{padding: 0;}#sk-container-id-3 div.sk-toggleable {background-color: white;}#sk-container-id-3 label.sk-toggleable__label {cursor: pointer;display: block;width: 100%;margin-bottom: 0;padding: 0.3em;box-sizing: border-box;text-align: center;}#sk-container-id-3 label.sk-toggleable__label-arrow:before {content: \"▸\";float: left;margin-right: 0.25em;color: #696969;}#sk-container-id-3 label.sk-toggleable__label-arrow:hover:before {color: black;}#sk-container-id-3 div.sk-estimator:hover label.sk-toggleable__label-arrow:before {color: black;}#sk-container-id-3 div.sk-toggleable__content {max-height: 0;max-width: 0;overflow: hidden;text-align: left;background-color: #f0f8ff;}#sk-container-id-3 div.sk-toggleable__content pre {margin: 0.2em;color: black;border-radius: 0.25em;background-color: #f0f8ff;}#sk-container-id-3 input.sk-toggleable__control:checked~div.sk-toggleable__content {max-height: 200px;max-width: 100%;overflow: auto;}#sk-container-id-3 input.sk-toggleable__control:checked~label.sk-toggleable__label-arrow:before {content: \"▾\";}#sk-container-id-3 div.sk-estimator input.sk-toggleable__control:checked~label.sk-toggleable__label {background-color: #d4ebff;}#sk-container-id-3 div.sk-label input.sk-toggleable__control:checked~label.sk-toggleable__label {background-color: #d4ebff;}#sk-container-id-3 input.sk-hidden--visually {border: 0;clip: rect(1px 1px 1px 1px);clip: rect(1px, 1px, 1px, 1px);height: 1px;margin: -1px;overflow: hidden;padding: 0;position: absolute;width: 1px;}#sk-container-id-3 div.sk-estimator {font-family: monospace;background-color: #f0f8ff;border: 1px dotted black;border-radius: 0.25em;box-sizing: border-box;margin-bottom: 0.5em;}#sk-container-id-3 div.sk-estimator:hover {background-color: #d4ebff;}#sk-container-id-3 div.sk-parallel-item::after {content: \"\";width: 100%;border-bottom: 1px solid gray;flex-grow: 1;}#sk-container-id-3 div.sk-label:hover label.sk-toggleable__label {background-color: #d4ebff;}#sk-container-id-3 div.sk-serial::before {content: \"\";position: absolute;border-left: 1px solid gray;box-sizing: border-box;top: 0;bottom: 0;left: 50%;z-index: 0;}#sk-container-id-3 div.sk-serial {display: flex;flex-direction: column;align-items: center;background-color: white;padding-right: 0.2em;padding-left: 0.2em;position: relative;}#sk-container-id-3 div.sk-item {position: relative;z-index: 1;}#sk-container-id-3 div.sk-parallel {display: flex;align-items: stretch;justify-content: center;background-color: white;position: relative;}#sk-container-id-3 div.sk-item::before, #sk-container-id-3 div.sk-parallel-item::before {content: \"\";position: absolute;border-left: 1px solid gray;box-sizing: border-box;top: 0;bottom: 0;left: 50%;z-index: -1;}#sk-container-id-3 div.sk-parallel-item {display: flex;flex-direction: column;z-index: 1;position: relative;background-color: white;}#sk-container-id-3 div.sk-parallel-item:first-child::after {align-self: flex-end;width: 50%;}#sk-container-id-3 div.sk-parallel-item:last-child::after {align-self: flex-start;width: 50%;}#sk-container-id-3 div.sk-parallel-item:only-child::after {width: 0;}#sk-container-id-3 div.sk-dashed-wrapped {border: 1px dashed gray;margin: 0 0.4em 0.5em 0.4em;box-sizing: border-box;padding-bottom: 0.4em;background-color: white;}#sk-container-id-3 div.sk-label label {font-family: monospace;font-weight: bold;display: inline-block;line-height: 1.2em;}#sk-container-id-3 div.sk-label-container {text-align: center;}#sk-container-id-3 div.sk-container {/* jupyter's `normalize.less` sets `[hidden] { display: none; }` but bootstrap.min.css set `[hidden] { display: none !important; }` so we also need the `!important` here to be able to override the default hidden behavior on the sphinx rendered scikit-learn.org. See: https://github.com/scikit-learn/scikit-learn/issues/21755 */display: inline-block !important;position: relative;}#sk-container-id-3 div.sk-text-repr-fallback {display: none;}</style><div id=\"sk-container-id-3\" class=\"sk-top-container\"><div class=\"sk-text-repr-fallback\"><pre>DecisionTreeClassifier()</pre><b>In a Jupyter environment, please rerun this cell to show the HTML representation or trust the notebook. <br />On GitHub, the HTML representation is unable to render, please try loading this page with nbviewer.org.</b></div><div class=\"sk-container\" hidden><div class=\"sk-item\"><div class=\"sk-estimator sk-toggleable\"><input class=\"sk-toggleable__control sk-hidden--visually\" id=\"sk-estimator-id-3\" type=\"checkbox\" checked><label for=\"sk-estimator-id-3\" class=\"sk-toggleable__label sk-toggleable__label-arrow\">DecisionTreeClassifier</label><div class=\"sk-toggleable__content\"><pre>DecisionTreeClassifier()</pre></div></div></div></div></div>"
      ],
      "text/plain": [
       "DecisionTreeClassifier()"
      ]
     },
     "execution_count": 11,
     "metadata": {},
     "output_type": "execute_result"
    }
   ],
   "source": [
    "from sklearn import tree\n",
    "\n",
    "dec_tree = tree.DecisionTreeClassifier()\n",
    "dec_tree.fit(i_tr, l_tr)"
   ]
  },
  {
   "cell_type": "code",
   "execution_count": 12,
   "id": "26c04d29",
   "metadata": {
    "execution": {
     "iopub.execute_input": "2023-11-30T14:54:15.212206Z",
     "iopub.status.busy": "2023-11-30T14:54:15.211787Z",
     "iopub.status.idle": "2023-11-30T14:54:15.311089Z",
     "shell.execute_reply": "2023-11-30T14:54:15.310014Z"
    },
    "papermill": {
     "duration": 0.108456,
     "end_time": "2023-11-30T14:54:15.313354",
     "exception": false,
     "start_time": "2023-11-30T14:54:15.204898",
     "status": "completed"
    },
    "tags": []
   },
   "outputs": [
    {
     "name": "stdout",
     "output_type": "stream",
     "text": [
      "Classification Report:\n",
      "              precision    recall  f1-score   support\n",
      "\n",
      "           0       0.25      0.31      0.28        88\n",
      "           1       0.11      0.11      0.11       108\n",
      "           2       0.18      0.18      0.18       119\n",
      "           3       0.20      0.21      0.21        94\n",
      "           4       0.13      0.13      0.13       102\n",
      "           5       0.18      0.18      0.18        68\n",
      "           6       0.10      0.08      0.09        12\n",
      "           7       0.15      0.14      0.14        94\n",
      "           8       0.29      0.32      0.30        91\n",
      "           9       0.15      0.13      0.14        82\n",
      "          10       0.17      0.17      0.17       126\n",
      "          11       0.19      0.19      0.19        84\n",
      "          12       0.14      0.11      0.12       126\n",
      "          13       0.15      0.16      0.15       100\n",
      "\n",
      "    accuracy                           0.18      1294\n",
      "   macro avg       0.17      0.17      0.17      1294\n",
      "weighted avg       0.17      0.18      0.17      1294\n",
      "\n"
     ]
    }
   ],
   "source": [
    "predictions = dec_tree.predict(i_te)\n",
    "accuracy = accuracy_score(l_te, predictions)\n",
    "report = classification_report(l_te, predictions)\n",
    "accuracy_li.append([accuracy])\n",
    "print(f\"Classification Report:\\n{report}\")\n"
   ]
  },
  {
   "cell_type": "code",
   "execution_count": 13,
   "id": "b17400b4",
   "metadata": {
    "execution": {
     "iopub.execute_input": "2023-11-30T14:54:15.327481Z",
     "iopub.status.busy": "2023-11-30T14:54:15.326332Z",
     "iopub.status.idle": "2023-11-30T14:54:16.680266Z",
     "shell.execute_reply": "2023-11-30T14:54:16.679211Z"
    },
    "papermill": {
     "duration": 1.363366,
     "end_time": "2023-11-30T14:54:16.682686",
     "exception": false,
     "start_time": "2023-11-30T14:54:15.319320",
     "status": "completed"
    },
    "tags": []
   },
   "outputs": [
    {
     "data": {
      "text/html": [
       "<style>#sk-container-id-4 {color: black;background-color: white;}#sk-container-id-4 pre{padding: 0;}#sk-container-id-4 div.sk-toggleable {background-color: white;}#sk-container-id-4 label.sk-toggleable__label {cursor: pointer;display: block;width: 100%;margin-bottom: 0;padding: 0.3em;box-sizing: border-box;text-align: center;}#sk-container-id-4 label.sk-toggleable__label-arrow:before {content: \"▸\";float: left;margin-right: 0.25em;color: #696969;}#sk-container-id-4 label.sk-toggleable__label-arrow:hover:before {color: black;}#sk-container-id-4 div.sk-estimator:hover label.sk-toggleable__label-arrow:before {color: black;}#sk-container-id-4 div.sk-toggleable__content {max-height: 0;max-width: 0;overflow: hidden;text-align: left;background-color: #f0f8ff;}#sk-container-id-4 div.sk-toggleable__content pre {margin: 0.2em;color: black;border-radius: 0.25em;background-color: #f0f8ff;}#sk-container-id-4 input.sk-toggleable__control:checked~div.sk-toggleable__content {max-height: 200px;max-width: 100%;overflow: auto;}#sk-container-id-4 input.sk-toggleable__control:checked~label.sk-toggleable__label-arrow:before {content: \"▾\";}#sk-container-id-4 div.sk-estimator input.sk-toggleable__control:checked~label.sk-toggleable__label {background-color: #d4ebff;}#sk-container-id-4 div.sk-label input.sk-toggleable__control:checked~label.sk-toggleable__label {background-color: #d4ebff;}#sk-container-id-4 input.sk-hidden--visually {border: 0;clip: rect(1px 1px 1px 1px);clip: rect(1px, 1px, 1px, 1px);height: 1px;margin: -1px;overflow: hidden;padding: 0;position: absolute;width: 1px;}#sk-container-id-4 div.sk-estimator {font-family: monospace;background-color: #f0f8ff;border: 1px dotted black;border-radius: 0.25em;box-sizing: border-box;margin-bottom: 0.5em;}#sk-container-id-4 div.sk-estimator:hover {background-color: #d4ebff;}#sk-container-id-4 div.sk-parallel-item::after {content: \"\";width: 100%;border-bottom: 1px solid gray;flex-grow: 1;}#sk-container-id-4 div.sk-label:hover label.sk-toggleable__label {background-color: #d4ebff;}#sk-container-id-4 div.sk-serial::before {content: \"\";position: absolute;border-left: 1px solid gray;box-sizing: border-box;top: 0;bottom: 0;left: 50%;z-index: 0;}#sk-container-id-4 div.sk-serial {display: flex;flex-direction: column;align-items: center;background-color: white;padding-right: 0.2em;padding-left: 0.2em;position: relative;}#sk-container-id-4 div.sk-item {position: relative;z-index: 1;}#sk-container-id-4 div.sk-parallel {display: flex;align-items: stretch;justify-content: center;background-color: white;position: relative;}#sk-container-id-4 div.sk-item::before, #sk-container-id-4 div.sk-parallel-item::before {content: \"\";position: absolute;border-left: 1px solid gray;box-sizing: border-box;top: 0;bottom: 0;left: 50%;z-index: -1;}#sk-container-id-4 div.sk-parallel-item {display: flex;flex-direction: column;z-index: 1;position: relative;background-color: white;}#sk-container-id-4 div.sk-parallel-item:first-child::after {align-self: flex-end;width: 50%;}#sk-container-id-4 div.sk-parallel-item:last-child::after {align-self: flex-start;width: 50%;}#sk-container-id-4 div.sk-parallel-item:only-child::after {width: 0;}#sk-container-id-4 div.sk-dashed-wrapped {border: 1px dashed gray;margin: 0 0.4em 0.5em 0.4em;box-sizing: border-box;padding-bottom: 0.4em;background-color: white;}#sk-container-id-4 div.sk-label label {font-family: monospace;font-weight: bold;display: inline-block;line-height: 1.2em;}#sk-container-id-4 div.sk-label-container {text-align: center;}#sk-container-id-4 div.sk-container {/* jupyter's `normalize.less` sets `[hidden] { display: none; }` but bootstrap.min.css set `[hidden] { display: none !important; }` so we also need the `!important` here to be able to override the default hidden behavior on the sphinx rendered scikit-learn.org. See: https://github.com/scikit-learn/scikit-learn/issues/21755 */display: inline-block !important;position: relative;}#sk-container-id-4 div.sk-text-repr-fallback {display: none;}</style><div id=\"sk-container-id-4\" class=\"sk-top-container\"><div class=\"sk-text-repr-fallback\"><pre>KNeighborsClassifier(n_neighbors=21)</pre><b>In a Jupyter environment, please rerun this cell to show the HTML representation or trust the notebook. <br />On GitHub, the HTML representation is unable to render, please try loading this page with nbviewer.org.</b></div><div class=\"sk-container\" hidden><div class=\"sk-item\"><div class=\"sk-estimator sk-toggleable\"><input class=\"sk-toggleable__control sk-hidden--visually\" id=\"sk-estimator-id-4\" type=\"checkbox\" checked><label for=\"sk-estimator-id-4\" class=\"sk-toggleable__label sk-toggleable__label-arrow\">KNeighborsClassifier</label><div class=\"sk-toggleable__content\"><pre>KNeighborsClassifier(n_neighbors=21)</pre></div></div></div></div></div>"
      ],
      "text/plain": [
       "KNeighborsClassifier(n_neighbors=21)"
      ]
     },
     "execution_count": 13,
     "metadata": {},
     "output_type": "execute_result"
    }
   ],
   "source": [
    "from sklearn.neighbors import KNeighborsClassifier\n",
    "\n",
    "knn_3 = KNeighborsClassifier(n_neighbors=3)\n",
    "knn_11 = KNeighborsClassifier(n_neighbors=11)\n",
    "knn_21 = KNeighborsClassifier(n_neighbors=21)\n",
    "\n",
    "knn_3.fit(i_tr, l_tr)\n",
    "knn_11.fit(i_tr, l_tr)\n",
    "knn_21.fit(i_tr, l_tr)"
   ]
  },
  {
   "cell_type": "code",
   "execution_count": 14,
   "id": "e237d783",
   "metadata": {
    "execution": {
     "iopub.execute_input": "2023-11-30T14:54:16.696711Z",
     "iopub.status.busy": "2023-11-30T14:54:16.696336Z",
     "iopub.status.idle": "2023-11-30T14:56:12.801170Z",
     "shell.execute_reply": "2023-11-30T14:56:12.800319Z"
    },
    "papermill": {
     "duration": 116.121515,
     "end_time": "2023-11-30T14:56:12.810403",
     "exception": false,
     "start_time": "2023-11-30T14:54:16.688888",
     "status": "completed"
    },
    "tags": []
   },
   "outputs": [
    {
     "name": "stdout",
     "output_type": "stream",
     "text": [
      "Classification Report (3):\n",
      "              precision    recall  f1-score   support\n",
      "\n",
      "           0       0.10      0.66      0.18        88\n",
      "           1       0.11      0.13      0.12       108\n",
      "           2       0.18      0.16      0.17       119\n",
      "           3       0.26      0.21      0.23        94\n",
      "           4       0.17      0.10      0.12       102\n",
      "           5       0.18      0.49      0.26        68\n",
      "           6       0.00      0.00      0.00        12\n",
      "           7       0.32      0.18      0.23        94\n",
      "           8       0.26      0.15      0.19        91\n",
      "           9       0.00      0.00      0.00        82\n",
      "          10       0.17      0.04      0.06       126\n",
      "          11       0.40      0.02      0.04        84\n",
      "          12       0.13      0.02      0.03       126\n",
      "          13       0.10      0.01      0.02       100\n",
      "\n",
      "    accuracy                           0.15      1294\n",
      "   macro avg       0.17      0.15      0.12      1294\n",
      "weighted avg       0.18      0.15      0.12      1294\n",
      "\n",
      "Classification Report (11):\n",
      "              precision    recall  f1-score   support\n",
      "\n",
      "           0       0.09      0.56      0.15        88\n",
      "           1       0.24      0.13      0.17       108\n",
      "           2       0.31      0.22      0.25       119\n",
      "           3       0.32      0.26      0.29        94\n",
      "           4       0.18      0.07      0.10       102\n",
      "           5       0.16      0.56      0.25        68\n",
      "           6       0.00      0.00      0.00        12\n",
      "           7       0.28      0.26      0.27        94\n",
      "           8       0.33      0.16      0.22        91\n",
      "           9       0.18      0.02      0.04        82\n",
      "          10       0.14      0.04      0.06       126\n",
      "          11       0.20      0.01      0.02        84\n",
      "          12       0.11      0.02      0.04       126\n",
      "          13       0.10      0.02      0.03       100\n",
      "\n",
      "    accuracy                           0.16      1294\n",
      "   macro avg       0.19      0.17      0.14      1294\n",
      "weighted avg       0.20      0.16      0.14      1294\n",
      "\n",
      "Classification Report(21):\n",
      "              precision    recall  f1-score   support\n",
      "\n",
      "           0       0.09      0.60      0.15        88\n",
      "           1       0.21      0.08      0.12       108\n",
      "           2       0.25      0.22      0.23       119\n",
      "           3       0.28      0.22      0.25        94\n",
      "           4       0.11      0.02      0.03       102\n",
      "           5       0.16      0.54      0.25        68\n",
      "           6       0.00      0.00      0.00        12\n",
      "           7       0.29      0.24      0.26        94\n",
      "           8       0.41      0.20      0.27        91\n",
      "           9       0.00      0.00      0.00        82\n",
      "          10       0.22      0.06      0.10       126\n",
      "          11       0.00      0.00      0.00        84\n",
      "          12       0.06      0.01      0.01       126\n",
      "          13       0.12      0.04      0.06       100\n",
      "\n",
      "    accuracy                           0.16      1294\n",
      "   macro avg       0.16      0.16      0.12      1294\n",
      "weighted avg       0.17      0.16      0.13      1294\n",
      "\n"
     ]
    },
    {
     "name": "stderr",
     "output_type": "stream",
     "text": [
      "/opt/conda/lib/python3.10/site-packages/sklearn/metrics/_classification.py:1344: UndefinedMetricWarning: Precision and F-score are ill-defined and being set to 0.0 in labels with no predicted samples. Use `zero_division` parameter to control this behavior.\n",
      "  _warn_prf(average, modifier, msg_start, len(result))\n",
      "/opt/conda/lib/python3.10/site-packages/sklearn/metrics/_classification.py:1344: UndefinedMetricWarning: Precision and F-score are ill-defined and being set to 0.0 in labels with no predicted samples. Use `zero_division` parameter to control this behavior.\n",
      "  _warn_prf(average, modifier, msg_start, len(result))\n",
      "/opt/conda/lib/python3.10/site-packages/sklearn/metrics/_classification.py:1344: UndefinedMetricWarning: Precision and F-score are ill-defined and being set to 0.0 in labels with no predicted samples. Use `zero_division` parameter to control this behavior.\n",
      "  _warn_prf(average, modifier, msg_start, len(result))\n"
     ]
    }
   ],
   "source": [
    "predictions = knn_3.predict(i_te)\n",
    "accuracy = accuracy_score(l_te, predictions)\n",
    "report = classification_report(l_te, predictions)\n",
    "accuracy_li.append([accuracy])\n",
    "print(f\"Classification Report (3):\\n{report}\")\n",
    "\n",
    "predictions = knn_11.predict(i_te)\n",
    "accuracy = accuracy_score(l_te, predictions)\n",
    "report = classification_report(l_te, predictions)\n",
    "accuracy_li.append([accuracy])\n",
    "print(f\"Classification Report (11):\\n{report}\")\n",
    "\n",
    "predictions = knn_21.predict(i_te)\n",
    "accuracy = accuracy_score(l_te, predictions)\n",
    "report = classification_report(l_te, predictions)\n",
    "accuracy_li.append([accuracy])\n",
    "print(f\"Classification Report(21):\\n{report}\")"
   ]
  },
  {
   "cell_type": "code",
   "execution_count": 15,
   "id": "6b1aa22f",
   "metadata": {
    "execution": {
     "iopub.execute_input": "2023-11-30T14:56:12.825768Z",
     "iopub.status.busy": "2023-11-30T14:56:12.824719Z",
     "iopub.status.idle": "2023-11-30T15:22:08.642327Z",
     "shell.execute_reply": "2023-11-30T15:22:08.640448Z"
    },
    "papermill": {
     "duration": 1555.839987,
     "end_time": "2023-11-30T15:22:08.656847",
     "exception": false,
     "start_time": "2023-11-30T14:56:12.816860",
     "status": "completed"
    },
    "tags": []
   },
   "outputs": [
    {
     "name": "stdout",
     "output_type": "stream",
     "text": [
      "Ensemble Learning Classification Report:\n",
      "              precision    recall  f1-score   support\n",
      "\n",
      "           0       0.10      0.62      0.17        88\n",
      "           1       0.28      0.16      0.20       108\n",
      "           2       0.31      0.34      0.32       119\n",
      "           3       0.26      0.34      0.29        94\n",
      "           4       0.21      0.07      0.10       102\n",
      "           5       0.20      0.53      0.29        68\n",
      "           6       0.50      0.08      0.14        12\n",
      "           7       0.41      0.28      0.33        94\n",
      "           8       0.55      0.25      0.35        91\n",
      "           9       0.50      0.01      0.02        82\n",
      "          10       0.22      0.07      0.11       126\n",
      "          11       0.50      0.04      0.07        84\n",
      "          12       0.25      0.02      0.04       126\n",
      "          13       0.22      0.04      0.07       100\n",
      "\n",
      "    accuracy                           0.20      1294\n",
      "   macro avg       0.32      0.20      0.18      1294\n",
      "weighted avg       0.30      0.20      0.18      1294\n",
      "\n"
     ]
    }
   ],
   "source": [
    "from sklearn.ensemble import VotingClassifier\n",
    "\n",
    "models = [('Random Forest', random_forest),\n",
    "          ('Gaussian Naive Bayes', gnb),\n",
    "          ('Decision Tree', dec_tree),\n",
    "          ('KNN (k=3)', knn_3),\n",
    "          ('KNN (k=11)', knn_11),\n",
    "          ('KNN (k=21)', knn_21)]\n",
    "\n",
    "voting_classifier = VotingClassifier(estimators=models)\n",
    "\n",
    "voting_classifier.fit(i_tr, l_tr)\n",
    "\n",
    "predictions = voting_classifier.predict(i_te)\n",
    "\n",
    "accuracy = accuracy_score(l_te, predictions)\n",
    "report = classification_report(l_te, predictions)\n",
    "\n",
    "print(f\"Ensemble Learning Classification Report:\\n{report}\")\n",
    "accuracy_li.append([accuracy])"
   ]
  },
  {
   "cell_type": "code",
   "execution_count": 16,
   "id": "c78e9962",
   "metadata": {
    "execution": {
     "iopub.execute_input": "2023-11-30T15:22:08.673508Z",
     "iopub.status.busy": "2023-11-30T15:22:08.673086Z",
     "iopub.status.idle": "2023-11-30T15:22:08.679149Z",
     "shell.execute_reply": "2023-11-30T15:22:08.678000Z"
    },
    "papermill": {
     "duration": 0.017613,
     "end_time": "2023-11-30T15:22:08.681325",
     "exception": false,
     "start_time": "2023-11-30T15:22:08.663712",
     "status": "completed"
    },
    "tags": []
   },
   "outputs": [],
   "source": [
    "labels = [\"Transfer Learning ResNet\", \"Our Own CNN Architecture\", \"RandomForestClassifier\", \"GaussianNB\",\n",
    "          'DecisionTreeClassifier', 'KNeighborsClassifier_3', \"KNeighborsClassifier_11\", \"KNeighborsClassifier_21\",\n",
    "          \"VotingClassifier\"]"
   ]
  },
  {
   "cell_type": "code",
   "execution_count": 17,
   "id": "1042a8f9",
   "metadata": {
    "execution": {
     "iopub.execute_input": "2023-11-30T15:22:08.696791Z",
     "iopub.status.busy": "2023-11-30T15:22:08.696421Z",
     "iopub.status.idle": "2023-11-30T15:22:09.220194Z",
     "shell.execute_reply": "2023-11-30T15:22:09.219023Z"
    },
    "papermill": {
     "duration": 0.534338,
     "end_time": "2023-11-30T15:22:09.222424",
     "exception": false,
     "start_time": "2023-11-30T15:22:08.688086",
     "status": "completed"
    },
    "tags": []
   },
   "outputs": [
    {
     "data": {
      "text/html": [
       "<div>\n",
       "<style scoped>\n",
       "    .dataframe tbody tr th:only-of-type {\n",
       "        vertical-align: middle;\n",
       "    }\n",
       "\n",
       "    .dataframe tbody tr th {\n",
       "        vertical-align: top;\n",
       "    }\n",
       "\n",
       "    .dataframe thead th {\n",
       "        text-align: right;\n",
       "    }\n",
       "</style>\n",
       "<table border=\"1\" class=\"dataframe\">\n",
       "  <thead>\n",
       "    <tr style=\"text-align: right;\">\n",
       "      <th></th>\n",
       "      <th>Transfer Learning ResNet</th>\n",
       "      <th>Our Own CNN Architecture</th>\n",
       "      <th>RandomForestClassifier</th>\n",
       "      <th>GaussianNB</th>\n",
       "      <th>DecisionTreeClassifier</th>\n",
       "      <th>KNeighborsClassifier_3</th>\n",
       "      <th>KNeighborsClassifier_11</th>\n",
       "      <th>KNeighborsClassifier_21</th>\n",
       "      <th>VotingClassifier</th>\n",
       "    </tr>\n",
       "  </thead>\n",
       "  <tbody>\n",
       "    <tr>\n",
       "      <th>Accuracy</th>\n",
       "      <td>0.815</td>\n",
       "      <td>0.475</td>\n",
       "      <td>0.309892</td>\n",
       "      <td>0.195518</td>\n",
       "      <td>0.176198</td>\n",
       "      <td>0.150696</td>\n",
       "      <td>0.162287</td>\n",
       "      <td>0.156105</td>\n",
       "      <td>0.199382</td>\n",
       "    </tr>\n",
       "  </tbody>\n",
       "</table>\n",
       "</div>"
      ],
      "text/plain": [
       "          Transfer Learning ResNet  Our Own CNN Architecture  \\\n",
       "Accuracy                     0.815                     0.475   \n",
       "\n",
       "          RandomForestClassifier  GaussianNB  DecisionTreeClassifier  \\\n",
       "Accuracy                0.309892    0.195518                0.176198   \n",
       "\n",
       "          KNeighborsClassifier_3  KNeighborsClassifier_11  \\\n",
       "Accuracy                0.150696                 0.162287   \n",
       "\n",
       "          KNeighborsClassifier_21  VotingClassifier  \n",
       "Accuracy                 0.156105          0.199382  "
      ]
     },
     "execution_count": 17,
     "metadata": {},
     "output_type": "execute_result"
    }
   ],
   "source": [
    "import pandas as pd\n",
    "\n",
    "pd.DataFrame(np.array(accuracy_li).T, columns=labels, index=['Accuracy'])"
   ]
  },
  {
   "cell_type": "code",
   "execution_count": null,
   "id": "ca2b5a37",
   "metadata": {
    "papermill": {
     "duration": 0.006743,
     "end_time": "2023-11-30T15:22:09.236500",
     "exception": false,
     "start_time": "2023-11-30T15:22:09.229757",
     "status": "completed"
    },
    "tags": []
   },
   "outputs": [],
   "source": []
  }
 ],
 "metadata": {
  "kaggle": {
   "accelerator": "none",
   "dataSources": [
    {
     "datasetId": 3709047,
     "isSourceIdPinned": true,
     "sourceId": 6806828,
     "sourceType": "datasetVersion"
    }
   ],
   "dockerImageVersionId": 30587,
   "isGpuEnabled": false,
   "isInternetEnabled": true,
   "language": "python",
   "sourceType": "notebook"
  },
  "kernelspec": {
   "display_name": "Python 3",
   "language": "python",
   "name": "python3"
  },
  "language_info": {
   "codemirror_mode": {
    "name": "ipython",
    "version": 3
   },
   "file_extension": ".py",
   "mimetype": "text/x-python",
   "name": "python",
   "nbconvert_exporter": "python",
   "pygments_lexer": "ipython3",
   "version": "3.10.12"
  },
  "papermill": {
   "default_parameters": {},
   "duration": 3132.814777,
   "end_time": "2023-11-30T15:22:09.973814",
   "environment_variables": {},
   "exception": null,
   "input_path": "__notebook__.ipynb",
   "output_path": "__notebook__.ipynb",
   "parameters": {},
   "start_time": "2023-11-30T14:29:57.159037",
   "version": "2.4.0"
  }
 },
 "nbformat": 4,
 "nbformat_minor": 5
}
