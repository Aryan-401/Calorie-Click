{
 "cells": [
  {
   "cell_type": "code",
   "execution_count": 1,
   "id": "82d07b84",
   "metadata": {
    "execution": {
     "iopub.execute_input": "2023-11-30T20:08:05.786741Z",
     "iopub.status.busy": "2023-11-30T20:08:05.786329Z",
     "iopub.status.idle": "2023-11-30T20:08:06.058666Z",
     "shell.execute_reply": "2023-11-30T20:08:06.057702Z"
    },
    "papermill": {
     "duration": 0.28177,
     "end_time": "2023-11-30T20:08:06.061391",
     "exception": false,
     "start_time": "2023-11-30T20:08:05.779621",
     "status": "completed"
    },
    "tags": []
   },
   "outputs": [],
   "source": [
    "import os\n",
    "import cv2\n",
    "import numpy as np\n",
    "\n",
    "def pre_preprocess_image(processed_image):\n",
    "    return (processed_image - np.array([0.485, 0.456, 0.406])) / np.array([0.229, 0.224, 0.225])\n",
    "\n",
    "\n",
    "def preprocess_image(image, step='full', resize=64):\n",
    "  if step not in ['full', 'half']:\n",
    "    raise ValueError()\n",
    "    \n",
    "  processed_image = cv2.flip(image, 1)\n",
    "  rotation_angle = np.random.uniform(0, 15)\n",
    "  rows, cols, _ = processed_image.shape\n",
    "  rotation_matrix = cv2.getRotationMatrix2D((cols / 2, rows / 2), rotation_angle, 1)\n",
    "  processed_image = cv2.warpAffine(processed_image, rotation_matrix, (cols, rows))\n",
    "\n",
    "  processed_image = pre_preprocess_image(processed_image)\n",
    "  og_image = pre_preprocess_image(image)\n",
    "  if step == 'half':\n",
    "    return cv2.resize(processed_image, (resize,resize)), cv2.resize(og_image, (resize,resize))\n",
    "  else:\n",
    "    return cv2.resize(processed_image, (224,224)).flatten().astype('float32'), cv2.resize(og_image, (224,224)).flatten().astype('float32')\n",
    "\n",
    "\n",
    "\n",
    "\n",
    "def get_images(t: str = \"Train\", resize: int = 64):\n",
    "    img = []\n",
    "    label = []\n",
    "    t = t.capitalize()\n",
    "\n",
    "    if t not in [\"Train\", \"Test\", \"Validate\"]:\n",
    "        raise ValueError()\n",
    "\n",
    "    folders = os.listdir(f'/kaggle/input/indian-food-16/{t}')\n",
    "\n",
    "    for folder in folders:\n",
    "        for image in os.listdir(f'/kaggle/input/indian-food-16/{t}/{folder}'):\n",
    "            img_og = cv2.imread(f\"/kaggle/input/indian-food-16/{t}/{folder}/{image}\")\n",
    "            img_set = preprocess_image(img_og, resize = resize)\n",
    "            img.append(img_set[0])\n",
    "            img.append(img_set[1])\n",
    "            label.append(folders.index(folder))\n",
    "            label.append(folders.index(folder))\n",
    "            \n",
    "    img = np.array(img)\n",
    "    label = np.array(label)\n",
    "    return img, label"
   ]
  },
  {
   "cell_type": "code",
   "execution_count": 2,
   "id": "c15df5ff",
   "metadata": {
    "execution": {
     "iopub.execute_input": "2023-11-30T20:08:06.073761Z",
     "iopub.status.busy": "2023-11-30T20:08:06.073378Z",
     "iopub.status.idle": "2023-11-30T20:08:53.407539Z",
     "shell.execute_reply": "2023-11-30T20:08:53.406638Z"
    },
    "papermill": {
     "duration": 47.34262,
     "end_time": "2023-11-30T20:08:53.410340",
     "exception": false,
     "start_time": "2023-11-30T20:08:06.067720",
     "status": "completed"
    },
    "tags": []
   },
   "outputs": [
    {
     "name": "stdout",
     "output_type": "stream",
     "text": [
      "Training Data Loading...\n",
      "Testing Data Loading...\n",
      "Validating Data Loading...\n"
     ]
    }
   ],
   "source": [
    "print(\"Training Data Loading...\")\n",
    "i_tr, l_tr = get_images(\"Train\")\n",
    "print(\"Testing Data Loading...\")\n",
    "i_te, l_te = get_images(\"Test\")\n",
    "print(\"Validating Data Loading...\")\n",
    "i_va, l_va = get_images(\"Validate\")"
   ]
  },
  {
   "cell_type": "code",
   "execution_count": 3,
   "id": "7b59c068",
   "metadata": {
    "execution": {
     "iopub.execute_input": "2023-11-30T20:08:53.421433Z",
     "iopub.status.busy": "2023-11-30T20:08:53.421052Z",
     "iopub.status.idle": "2023-11-30T20:08:57.357357Z",
     "shell.execute_reply": "2023-11-30T20:08:57.355079Z"
    },
    "papermill": {
     "duration": 3.947816,
     "end_time": "2023-11-30T20:08:57.363160",
     "exception": false,
     "start_time": "2023-11-30T20:08:53.415344",
     "status": "completed"
    },
    "tags": []
   },
   "outputs": [],
   "source": [
    "i_tr = np. concatenate((i_tr, i_va), 0)\n",
    "l_tr = np. concatenate((l_tr, l_va), 0)"
   ]
  },
  {
   "cell_type": "code",
   "execution_count": 4,
   "id": "ea97ce71",
   "metadata": {
    "execution": {
     "iopub.execute_input": "2023-11-30T20:08:57.384249Z",
     "iopub.status.busy": "2023-11-30T20:08:57.383161Z",
     "iopub.status.idle": "2023-11-30T20:08:57.389810Z",
     "shell.execute_reply": "2023-11-30T20:08:57.389079Z"
    },
    "papermill": {
     "duration": 0.021371,
     "end_time": "2023-11-30T20:08:57.396048",
     "exception": false,
     "start_time": "2023-11-30T20:08:57.374677",
     "status": "completed"
    },
    "tags": []
   },
   "outputs": [
    {
     "name": "stdout",
     "output_type": "stream",
     "text": [
      "Training Data Information\n",
      "(10414, 150528)\n",
      "(10414,)\n",
      "Testing Data Information\n",
      "(2588, 150528)\n",
      "(2588,)\n"
     ]
    }
   ],
   "source": [
    "print(\"Training Data Information\")\n",
    "print(i_tr.shape)\n",
    "print(l_tr.shape)\n",
    "print(\"Testing Data Information\")\n",
    "print(i_te.shape)\n",
    "print(l_te.shape)"
   ]
  },
  {
   "cell_type": "code",
   "execution_count": 5,
   "id": "71054b6b",
   "metadata": {
    "execution": {
     "iopub.execute_input": "2023-11-30T20:08:57.408393Z",
     "iopub.status.busy": "2023-11-30T20:08:57.407364Z",
     "iopub.status.idle": "2023-11-30T20:08:57.411671Z",
     "shell.execute_reply": "2023-11-30T20:08:57.410836Z"
    },
    "papermill": {
     "duration": 0.012963,
     "end_time": "2023-11-30T20:08:57.414017",
     "exception": false,
     "start_time": "2023-11-30T20:08:57.401054",
     "status": "completed"
    },
    "tags": []
   },
   "outputs": [],
   "source": [
    "# from sklearn.preprocessing import StandardScaler\n",
    "# scaler = scaler = StandardScaler()\n",
    "# i_tr = scaler.fit_transform(i_tr)\n",
    "# print(\"Done with Training, Doing Testing\")\n",
    "# i_te = scaler.fit_transform(i_te)"
   ]
  },
  {
   "cell_type": "code",
   "execution_count": 6,
   "id": "28fcaae8",
   "metadata": {
    "execution": {
     "iopub.execute_input": "2023-11-30T20:08:57.425930Z",
     "iopub.status.busy": "2023-11-30T20:08:57.425291Z",
     "iopub.status.idle": "2023-11-30T20:08:57.430656Z",
     "shell.execute_reply": "2023-11-30T20:08:57.429758Z"
    },
    "papermill": {
     "duration": 0.013899,
     "end_time": "2023-11-30T20:08:57.432919",
     "exception": false,
     "start_time": "2023-11-30T20:08:57.419020",
     "status": "completed"
    },
    "tags": []
   },
   "outputs": [],
   "source": [
    "accuracy_li = [[0.815], [0.475]]"
   ]
  },
  {
   "cell_type": "code",
   "execution_count": 7,
   "id": "3ede260b",
   "metadata": {
    "execution": {
     "iopub.execute_input": "2023-11-30T20:08:57.445232Z",
     "iopub.status.busy": "2023-11-30T20:08:57.444909Z",
     "iopub.status.idle": "2023-11-30T20:18:01.925855Z",
     "shell.execute_reply": "2023-11-30T20:18:01.924492Z"
    },
    "papermill": {
     "duration": 544.495093,
     "end_time": "2023-11-30T20:18:01.933487",
     "exception": false,
     "start_time": "2023-11-30T20:08:57.438394",
     "status": "completed"
    },
    "tags": []
   },
   "outputs": [
    {
     "data": {
      "text/html": [
       "<style>#sk-container-id-1 {color: black;background-color: white;}#sk-container-id-1 pre{padding: 0;}#sk-container-id-1 div.sk-toggleable {background-color: white;}#sk-container-id-1 label.sk-toggleable__label {cursor: pointer;display: block;width: 100%;margin-bottom: 0;padding: 0.3em;box-sizing: border-box;text-align: center;}#sk-container-id-1 label.sk-toggleable__label-arrow:before {content: \"▸\";float: left;margin-right: 0.25em;color: #696969;}#sk-container-id-1 label.sk-toggleable__label-arrow:hover:before {color: black;}#sk-container-id-1 div.sk-estimator:hover label.sk-toggleable__label-arrow:before {color: black;}#sk-container-id-1 div.sk-toggleable__content {max-height: 0;max-width: 0;overflow: hidden;text-align: left;background-color: #f0f8ff;}#sk-container-id-1 div.sk-toggleable__content pre {margin: 0.2em;color: black;border-radius: 0.25em;background-color: #f0f8ff;}#sk-container-id-1 input.sk-toggleable__control:checked~div.sk-toggleable__content {max-height: 200px;max-width: 100%;overflow: auto;}#sk-container-id-1 input.sk-toggleable__control:checked~label.sk-toggleable__label-arrow:before {content: \"▾\";}#sk-container-id-1 div.sk-estimator input.sk-toggleable__control:checked~label.sk-toggleable__label {background-color: #d4ebff;}#sk-container-id-1 div.sk-label input.sk-toggleable__control:checked~label.sk-toggleable__label {background-color: #d4ebff;}#sk-container-id-1 input.sk-hidden--visually {border: 0;clip: rect(1px 1px 1px 1px);clip: rect(1px, 1px, 1px, 1px);height: 1px;margin: -1px;overflow: hidden;padding: 0;position: absolute;width: 1px;}#sk-container-id-1 div.sk-estimator {font-family: monospace;background-color: #f0f8ff;border: 1px dotted black;border-radius: 0.25em;box-sizing: border-box;margin-bottom: 0.5em;}#sk-container-id-1 div.sk-estimator:hover {background-color: #d4ebff;}#sk-container-id-1 div.sk-parallel-item::after {content: \"\";width: 100%;border-bottom: 1px solid gray;flex-grow: 1;}#sk-container-id-1 div.sk-label:hover label.sk-toggleable__label {background-color: #d4ebff;}#sk-container-id-1 div.sk-serial::before {content: \"\";position: absolute;border-left: 1px solid gray;box-sizing: border-box;top: 0;bottom: 0;left: 50%;z-index: 0;}#sk-container-id-1 div.sk-serial {display: flex;flex-direction: column;align-items: center;background-color: white;padding-right: 0.2em;padding-left: 0.2em;position: relative;}#sk-container-id-1 div.sk-item {position: relative;z-index: 1;}#sk-container-id-1 div.sk-parallel {display: flex;align-items: stretch;justify-content: center;background-color: white;position: relative;}#sk-container-id-1 div.sk-item::before, #sk-container-id-1 div.sk-parallel-item::before {content: \"\";position: absolute;border-left: 1px solid gray;box-sizing: border-box;top: 0;bottom: 0;left: 50%;z-index: -1;}#sk-container-id-1 div.sk-parallel-item {display: flex;flex-direction: column;z-index: 1;position: relative;background-color: white;}#sk-container-id-1 div.sk-parallel-item:first-child::after {align-self: flex-end;width: 50%;}#sk-container-id-1 div.sk-parallel-item:last-child::after {align-self: flex-start;width: 50%;}#sk-container-id-1 div.sk-parallel-item:only-child::after {width: 0;}#sk-container-id-1 div.sk-dashed-wrapped {border: 1px dashed gray;margin: 0 0.4em 0.5em 0.4em;box-sizing: border-box;padding-bottom: 0.4em;background-color: white;}#sk-container-id-1 div.sk-label label {font-family: monospace;font-weight: bold;display: inline-block;line-height: 1.2em;}#sk-container-id-1 div.sk-label-container {text-align: center;}#sk-container-id-1 div.sk-container {/* jupyter's `normalize.less` sets `[hidden] { display: none; }` but bootstrap.min.css set `[hidden] { display: none !important; }` so we also need the `!important` here to be able to override the default hidden behavior on the sphinx rendered scikit-learn.org. See: https://github.com/scikit-learn/scikit-learn/issues/21755 */display: inline-block !important;position: relative;}#sk-container-id-1 div.sk-text-repr-fallback {display: none;}</style><div id=\"sk-container-id-1\" class=\"sk-top-container\"><div class=\"sk-text-repr-fallback\"><pre>RandomForestClassifier(n_estimators=101)</pre><b>In a Jupyter environment, please rerun this cell to show the HTML representation or trust the notebook. <br />On GitHub, the HTML representation is unable to render, please try loading this page with nbviewer.org.</b></div><div class=\"sk-container\" hidden><div class=\"sk-item\"><div class=\"sk-estimator sk-toggleable\"><input class=\"sk-toggleable__control sk-hidden--visually\" id=\"sk-estimator-id-1\" type=\"checkbox\" checked><label for=\"sk-estimator-id-1\" class=\"sk-toggleable__label sk-toggleable__label-arrow\">RandomForestClassifier</label><div class=\"sk-toggleable__content\"><pre>RandomForestClassifier(n_estimators=101)</pre></div></div></div></div></div>"
      ],
      "text/plain": [
       "RandomForestClassifier(n_estimators=101)"
      ]
     },
     "execution_count": 7,
     "metadata": {},
     "output_type": "execute_result"
    }
   ],
   "source": [
    "from sklearn.ensemble import RandomForestClassifier\n",
    "\n",
    "random_forest = RandomForestClassifier(n_estimators=101)\n",
    "random_forest.fit(i_tr, l_tr)"
   ]
  },
  {
   "cell_type": "code",
   "execution_count": 8,
   "id": "7a33100b",
   "metadata": {
    "execution": {
     "iopub.execute_input": "2023-11-30T20:18:01.945616Z",
     "iopub.status.busy": "2023-11-30T20:18:01.945125Z",
     "iopub.status.idle": "2023-11-30T20:18:02.307633Z",
     "shell.execute_reply": "2023-11-30T20:18:02.306476Z"
    },
    "papermill": {
     "duration": 0.371621,
     "end_time": "2023-11-30T20:18:02.310082",
     "exception": false,
     "start_time": "2023-11-30T20:18:01.938461",
     "status": "completed"
    },
    "tags": []
   },
   "outputs": [
    {
     "name": "stdout",
     "output_type": "stream",
     "text": [
      "Classification Report:\n",
      "              precision    recall  f1-score   support\n",
      "\n",
      "           0       0.37      0.36      0.36       176\n",
      "           1       0.18      0.16      0.17       216\n",
      "           2       0.30      0.53      0.38       238\n",
      "           3       0.39      0.36      0.38       188\n",
      "           4       0.23      0.13      0.16       204\n",
      "           5       0.48      0.32      0.39       136\n",
      "           6       1.00      0.08      0.15        24\n",
      "           7       0.38      0.26      0.30       188\n",
      "           8       0.49      0.47      0.48       182\n",
      "           9       0.40      0.13      0.19       164\n",
      "          10       0.22      0.36      0.27       252\n",
      "          11       0.35      0.33      0.34       168\n",
      "          12       0.19      0.23      0.21       252\n",
      "          13       0.26      0.24      0.25       200\n",
      "\n",
      "    accuracy                           0.30      2588\n",
      "   macro avg       0.37      0.28      0.29      2588\n",
      "weighted avg       0.32      0.30      0.29      2588\n",
      "\n"
     ]
    }
   ],
   "source": [
    "from sklearn.metrics import accuracy_score, classification_report\n",
    "predictions = random_forest.predict(i_te)\n",
    "accuracy = accuracy_score(l_te, predictions)\n",
    "report = classification_report(l_te, predictions)\n",
    "accuracy_li.append([accuracy])\n",
    "print(f\"Classification Report:\\n{report}\")\n"
   ]
  },
  {
   "cell_type": "code",
   "execution_count": 9,
   "id": "e6e63774",
   "metadata": {
    "execution": {
     "iopub.execute_input": "2023-11-30T20:18:02.323263Z",
     "iopub.status.busy": "2023-11-30T20:18:02.322883Z",
     "iopub.status.idle": "2023-11-30T20:18:15.398757Z",
     "shell.execute_reply": "2023-11-30T20:18:15.397643Z"
    },
    "papermill": {
     "duration": 13.085687,
     "end_time": "2023-11-30T20:18:15.401438",
     "exception": false,
     "start_time": "2023-11-30T20:18:02.315751",
     "status": "completed"
    },
    "tags": []
   },
   "outputs": [
    {
     "data": {
      "text/html": [
       "<style>#sk-container-id-2 {color: black;background-color: white;}#sk-container-id-2 pre{padding: 0;}#sk-container-id-2 div.sk-toggleable {background-color: white;}#sk-container-id-2 label.sk-toggleable__label {cursor: pointer;display: block;width: 100%;margin-bottom: 0;padding: 0.3em;box-sizing: border-box;text-align: center;}#sk-container-id-2 label.sk-toggleable__label-arrow:before {content: \"▸\";float: left;margin-right: 0.25em;color: #696969;}#sk-container-id-2 label.sk-toggleable__label-arrow:hover:before {color: black;}#sk-container-id-2 div.sk-estimator:hover label.sk-toggleable__label-arrow:before {color: black;}#sk-container-id-2 div.sk-toggleable__content {max-height: 0;max-width: 0;overflow: hidden;text-align: left;background-color: #f0f8ff;}#sk-container-id-2 div.sk-toggleable__content pre {margin: 0.2em;color: black;border-radius: 0.25em;background-color: #f0f8ff;}#sk-container-id-2 input.sk-toggleable__control:checked~div.sk-toggleable__content {max-height: 200px;max-width: 100%;overflow: auto;}#sk-container-id-2 input.sk-toggleable__control:checked~label.sk-toggleable__label-arrow:before {content: \"▾\";}#sk-container-id-2 div.sk-estimator input.sk-toggleable__control:checked~label.sk-toggleable__label {background-color: #d4ebff;}#sk-container-id-2 div.sk-label input.sk-toggleable__control:checked~label.sk-toggleable__label {background-color: #d4ebff;}#sk-container-id-2 input.sk-hidden--visually {border: 0;clip: rect(1px 1px 1px 1px);clip: rect(1px, 1px, 1px, 1px);height: 1px;margin: -1px;overflow: hidden;padding: 0;position: absolute;width: 1px;}#sk-container-id-2 div.sk-estimator {font-family: monospace;background-color: #f0f8ff;border: 1px dotted black;border-radius: 0.25em;box-sizing: border-box;margin-bottom: 0.5em;}#sk-container-id-2 div.sk-estimator:hover {background-color: #d4ebff;}#sk-container-id-2 div.sk-parallel-item::after {content: \"\";width: 100%;border-bottom: 1px solid gray;flex-grow: 1;}#sk-container-id-2 div.sk-label:hover label.sk-toggleable__label {background-color: #d4ebff;}#sk-container-id-2 div.sk-serial::before {content: \"\";position: absolute;border-left: 1px solid gray;box-sizing: border-box;top: 0;bottom: 0;left: 50%;z-index: 0;}#sk-container-id-2 div.sk-serial {display: flex;flex-direction: column;align-items: center;background-color: white;padding-right: 0.2em;padding-left: 0.2em;position: relative;}#sk-container-id-2 div.sk-item {position: relative;z-index: 1;}#sk-container-id-2 div.sk-parallel {display: flex;align-items: stretch;justify-content: center;background-color: white;position: relative;}#sk-container-id-2 div.sk-item::before, #sk-container-id-2 div.sk-parallel-item::before {content: \"\";position: absolute;border-left: 1px solid gray;box-sizing: border-box;top: 0;bottom: 0;left: 50%;z-index: -1;}#sk-container-id-2 div.sk-parallel-item {display: flex;flex-direction: column;z-index: 1;position: relative;background-color: white;}#sk-container-id-2 div.sk-parallel-item:first-child::after {align-self: flex-end;width: 50%;}#sk-container-id-2 div.sk-parallel-item:last-child::after {align-self: flex-start;width: 50%;}#sk-container-id-2 div.sk-parallel-item:only-child::after {width: 0;}#sk-container-id-2 div.sk-dashed-wrapped {border: 1px dashed gray;margin: 0 0.4em 0.5em 0.4em;box-sizing: border-box;padding-bottom: 0.4em;background-color: white;}#sk-container-id-2 div.sk-label label {font-family: monospace;font-weight: bold;display: inline-block;line-height: 1.2em;}#sk-container-id-2 div.sk-label-container {text-align: center;}#sk-container-id-2 div.sk-container {/* jupyter's `normalize.less` sets `[hidden] { display: none; }` but bootstrap.min.css set `[hidden] { display: none !important; }` so we also need the `!important` here to be able to override the default hidden behavior on the sphinx rendered scikit-learn.org. See: https://github.com/scikit-learn/scikit-learn/issues/21755 */display: inline-block !important;position: relative;}#sk-container-id-2 div.sk-text-repr-fallback {display: none;}</style><div id=\"sk-container-id-2\" class=\"sk-top-container\"><div class=\"sk-text-repr-fallback\"><pre>GaussianNB()</pre><b>In a Jupyter environment, please rerun this cell to show the HTML representation or trust the notebook. <br />On GitHub, the HTML representation is unable to render, please try loading this page with nbviewer.org.</b></div><div class=\"sk-container\" hidden><div class=\"sk-item\"><div class=\"sk-estimator sk-toggleable\"><input class=\"sk-toggleable__control sk-hidden--visually\" id=\"sk-estimator-id-2\" type=\"checkbox\" checked><label for=\"sk-estimator-id-2\" class=\"sk-toggleable__label sk-toggleable__label-arrow\">GaussianNB</label><div class=\"sk-toggleable__content\"><pre>GaussianNB()</pre></div></div></div></div></div>"
      ],
      "text/plain": [
       "GaussianNB()"
      ]
     },
     "execution_count": 9,
     "metadata": {},
     "output_type": "execute_result"
    }
   ],
   "source": [
    "from sklearn.naive_bayes import GaussianNB\n",
    "gnb = GaussianNB()\n",
    "gnb.fit(i_tr, l_tr)"
   ]
  },
  {
   "cell_type": "code",
   "execution_count": 10,
   "id": "a159d232",
   "metadata": {
    "execution": {
     "iopub.execute_input": "2023-11-30T20:18:15.413893Z",
     "iopub.status.busy": "2023-11-30T20:18:15.413492Z",
     "iopub.status.idle": "2023-11-30T20:18:59.719148Z",
     "shell.execute_reply": "2023-11-30T20:18:59.718107Z"
    },
    "papermill": {
     "duration": 44.319557,
     "end_time": "2023-11-30T20:18:59.726373",
     "exception": false,
     "start_time": "2023-11-30T20:18:15.406816",
     "status": "completed"
    },
    "tags": []
   },
   "outputs": [
    {
     "name": "stdout",
     "output_type": "stream",
     "text": [
      "Classification Report:\n",
      "              precision    recall  f1-score   support\n",
      "\n",
      "           0       0.17      0.16      0.17       176\n",
      "           1       0.26      0.05      0.08       216\n",
      "           2       0.21      0.49      0.30       238\n",
      "           3       0.16      0.52      0.25       188\n",
      "           4       0.11      0.02      0.04       204\n",
      "           5       0.11      0.21      0.14       136\n",
      "           6       0.05      0.17      0.08        24\n",
      "           7       0.38      0.18      0.24       188\n",
      "           8       0.32      0.39      0.35       182\n",
      "           9       0.33      0.05      0.09       164\n",
      "          10       0.05      0.00      0.01       252\n",
      "          11       0.19      0.20      0.19       168\n",
      "          12       0.15      0.02      0.04       252\n",
      "          13       0.16      0.23      0.19       200\n",
      "\n",
      "    accuracy                           0.19      2588\n",
      "   macro avg       0.19      0.19      0.15      2588\n",
      "weighted avg       0.19      0.19      0.15      2588\n",
      "\n"
     ]
    }
   ],
   "source": [
    "from sklearn.metrics import accuracy_score, classification_report\n",
    "predictions = gnb.predict(i_te)\n",
    "accuracy = accuracy_score(l_te, predictions)\n",
    "report = classification_report(l_te, predictions)\n",
    "accuracy_li.append([accuracy])\n",
    "print(f\"Classification Report:\\n{report}\")\n"
   ]
  },
  {
   "cell_type": "code",
   "execution_count": 11,
   "id": "63b7ff9c",
   "metadata": {
    "execution": {
     "iopub.execute_input": "2023-11-30T20:18:59.740126Z",
     "iopub.status.busy": "2023-11-30T20:18:59.739241Z",
     "iopub.status.idle": "2023-11-30T21:15:55.183652Z",
     "shell.execute_reply": "2023-11-30T21:15:55.180894Z"
    },
    "papermill": {
     "duration": 3415.459907,
     "end_time": "2023-11-30T21:15:55.192810",
     "exception": false,
     "start_time": "2023-11-30T20:18:59.732903",
     "status": "completed"
    },
    "tags": []
   },
   "outputs": [
    {
     "data": {
      "text/html": [
       "<style>#sk-container-id-3 {color: black;background-color: white;}#sk-container-id-3 pre{padding: 0;}#sk-container-id-3 div.sk-toggleable {background-color: white;}#sk-container-id-3 label.sk-toggleable__label {cursor: pointer;display: block;width: 100%;margin-bottom: 0;padding: 0.3em;box-sizing: border-box;text-align: center;}#sk-container-id-3 label.sk-toggleable__label-arrow:before {content: \"▸\";float: left;margin-right: 0.25em;color: #696969;}#sk-container-id-3 label.sk-toggleable__label-arrow:hover:before {color: black;}#sk-container-id-3 div.sk-estimator:hover label.sk-toggleable__label-arrow:before {color: black;}#sk-container-id-3 div.sk-toggleable__content {max-height: 0;max-width: 0;overflow: hidden;text-align: left;background-color: #f0f8ff;}#sk-container-id-3 div.sk-toggleable__content pre {margin: 0.2em;color: black;border-radius: 0.25em;background-color: #f0f8ff;}#sk-container-id-3 input.sk-toggleable__control:checked~div.sk-toggleable__content {max-height: 200px;max-width: 100%;overflow: auto;}#sk-container-id-3 input.sk-toggleable__control:checked~label.sk-toggleable__label-arrow:before {content: \"▾\";}#sk-container-id-3 div.sk-estimator input.sk-toggleable__control:checked~label.sk-toggleable__label {background-color: #d4ebff;}#sk-container-id-3 div.sk-label input.sk-toggleable__control:checked~label.sk-toggleable__label {background-color: #d4ebff;}#sk-container-id-3 input.sk-hidden--visually {border: 0;clip: rect(1px 1px 1px 1px);clip: rect(1px, 1px, 1px, 1px);height: 1px;margin: -1px;overflow: hidden;padding: 0;position: absolute;width: 1px;}#sk-container-id-3 div.sk-estimator {font-family: monospace;background-color: #f0f8ff;border: 1px dotted black;border-radius: 0.25em;box-sizing: border-box;margin-bottom: 0.5em;}#sk-container-id-3 div.sk-estimator:hover {background-color: #d4ebff;}#sk-container-id-3 div.sk-parallel-item::after {content: \"\";width: 100%;border-bottom: 1px solid gray;flex-grow: 1;}#sk-container-id-3 div.sk-label:hover label.sk-toggleable__label {background-color: #d4ebff;}#sk-container-id-3 div.sk-serial::before {content: \"\";position: absolute;border-left: 1px solid gray;box-sizing: border-box;top: 0;bottom: 0;left: 50%;z-index: 0;}#sk-container-id-3 div.sk-serial {display: flex;flex-direction: column;align-items: center;background-color: white;padding-right: 0.2em;padding-left: 0.2em;position: relative;}#sk-container-id-3 div.sk-item {position: relative;z-index: 1;}#sk-container-id-3 div.sk-parallel {display: flex;align-items: stretch;justify-content: center;background-color: white;position: relative;}#sk-container-id-3 div.sk-item::before, #sk-container-id-3 div.sk-parallel-item::before {content: \"\";position: absolute;border-left: 1px solid gray;box-sizing: border-box;top: 0;bottom: 0;left: 50%;z-index: -1;}#sk-container-id-3 div.sk-parallel-item {display: flex;flex-direction: column;z-index: 1;position: relative;background-color: white;}#sk-container-id-3 div.sk-parallel-item:first-child::after {align-self: flex-end;width: 50%;}#sk-container-id-3 div.sk-parallel-item:last-child::after {align-self: flex-start;width: 50%;}#sk-container-id-3 div.sk-parallel-item:only-child::after {width: 0;}#sk-container-id-3 div.sk-dashed-wrapped {border: 1px dashed gray;margin: 0 0.4em 0.5em 0.4em;box-sizing: border-box;padding-bottom: 0.4em;background-color: white;}#sk-container-id-3 div.sk-label label {font-family: monospace;font-weight: bold;display: inline-block;line-height: 1.2em;}#sk-container-id-3 div.sk-label-container {text-align: center;}#sk-container-id-3 div.sk-container {/* jupyter's `normalize.less` sets `[hidden] { display: none; }` but bootstrap.min.css set `[hidden] { display: none !important; }` so we also need the `!important` here to be able to override the default hidden behavior on the sphinx rendered scikit-learn.org. See: https://github.com/scikit-learn/scikit-learn/issues/21755 */display: inline-block !important;position: relative;}#sk-container-id-3 div.sk-text-repr-fallback {display: none;}</style><div id=\"sk-container-id-3\" class=\"sk-top-container\"><div class=\"sk-text-repr-fallback\"><pre>DecisionTreeClassifier()</pre><b>In a Jupyter environment, please rerun this cell to show the HTML representation or trust the notebook. <br />On GitHub, the HTML representation is unable to render, please try loading this page with nbviewer.org.</b></div><div class=\"sk-container\" hidden><div class=\"sk-item\"><div class=\"sk-estimator sk-toggleable\"><input class=\"sk-toggleable__control sk-hidden--visually\" id=\"sk-estimator-id-3\" type=\"checkbox\" checked><label for=\"sk-estimator-id-3\" class=\"sk-toggleable__label sk-toggleable__label-arrow\">DecisionTreeClassifier</label><div class=\"sk-toggleable__content\"><pre>DecisionTreeClassifier()</pre></div></div></div></div></div>"
      ],
      "text/plain": [
       "DecisionTreeClassifier()"
      ]
     },
     "execution_count": 11,
     "metadata": {},
     "output_type": "execute_result"
    }
   ],
   "source": [
    "from sklearn import tree\n",
    "dec_tree = tree.DecisionTreeClassifier()\n",
    "dec_tree.fit(i_tr, l_tr)"
   ]
  },
  {
   "cell_type": "code",
   "execution_count": 12,
   "id": "965e2668",
   "metadata": {
    "execution": {
     "iopub.execute_input": "2023-11-30T21:15:55.208212Z",
     "iopub.status.busy": "2023-11-30T21:15:55.207484Z",
     "iopub.status.idle": "2023-11-30T21:15:55.404525Z",
     "shell.execute_reply": "2023-11-30T21:15:55.403029Z"
    },
    "papermill": {
     "duration": 0.208812,
     "end_time": "2023-11-30T21:15:55.407314",
     "exception": false,
     "start_time": "2023-11-30T21:15:55.198502",
     "status": "completed"
    },
    "tags": []
   },
   "outputs": [
    {
     "name": "stdout",
     "output_type": "stream",
     "text": [
      "Classification Report:\n",
      "              precision    recall  f1-score   support\n",
      "\n",
      "           0       0.21      0.22      0.21       176\n",
      "           1       0.10      0.10      0.10       216\n",
      "           2       0.26      0.26      0.26       238\n",
      "           3       0.24      0.21      0.23       188\n",
      "           4       0.12      0.12      0.12       204\n",
      "           5       0.20      0.20      0.20       136\n",
      "           6       0.05      0.04      0.04        24\n",
      "           7       0.16      0.16      0.16       188\n",
      "           8       0.26      0.24      0.25       182\n",
      "           9       0.14      0.15      0.14       164\n",
      "          10       0.14      0.14      0.14       252\n",
      "          11       0.18      0.18      0.18       168\n",
      "          12       0.17      0.18      0.17       252\n",
      "          13       0.13      0.14      0.13       200\n",
      "\n",
      "    accuracy                           0.17      2588\n",
      "   macro avg       0.17      0.17      0.17      2588\n",
      "weighted avg       0.18      0.17      0.17      2588\n",
      "\n"
     ]
    }
   ],
   "source": [
    "predictions = dec_tree.predict(i_te)\n",
    "accuracy = accuracy_score(l_te, predictions)\n",
    "report = classification_report(l_te, predictions)\n",
    "accuracy_li.append([accuracy])\n",
    "print(f\"Classification Report:\\n{report}\")\n"
   ]
  },
  {
   "cell_type": "code",
   "execution_count": 13,
   "id": "3e2d0dfd",
   "metadata": {
    "execution": {
     "iopub.execute_input": "2023-11-30T21:15:55.421710Z",
     "iopub.status.busy": "2023-11-30T21:15:55.421195Z",
     "iopub.status.idle": "2023-11-30T21:15:58.994615Z",
     "shell.execute_reply": "2023-11-30T21:15:58.993492Z"
    },
    "papermill": {
     "duration": 3.583822,
     "end_time": "2023-11-30T21:15:58.997127",
     "exception": false,
     "start_time": "2023-11-30T21:15:55.413305",
     "status": "completed"
    },
    "tags": []
   },
   "outputs": [
    {
     "data": {
      "text/html": [
       "<style>#sk-container-id-4 {color: black;background-color: white;}#sk-container-id-4 pre{padding: 0;}#sk-container-id-4 div.sk-toggleable {background-color: white;}#sk-container-id-4 label.sk-toggleable__label {cursor: pointer;display: block;width: 100%;margin-bottom: 0;padding: 0.3em;box-sizing: border-box;text-align: center;}#sk-container-id-4 label.sk-toggleable__label-arrow:before {content: \"▸\";float: left;margin-right: 0.25em;color: #696969;}#sk-container-id-4 label.sk-toggleable__label-arrow:hover:before {color: black;}#sk-container-id-4 div.sk-estimator:hover label.sk-toggleable__label-arrow:before {color: black;}#sk-container-id-4 div.sk-toggleable__content {max-height: 0;max-width: 0;overflow: hidden;text-align: left;background-color: #f0f8ff;}#sk-container-id-4 div.sk-toggleable__content pre {margin: 0.2em;color: black;border-radius: 0.25em;background-color: #f0f8ff;}#sk-container-id-4 input.sk-toggleable__control:checked~div.sk-toggleable__content {max-height: 200px;max-width: 100%;overflow: auto;}#sk-container-id-4 input.sk-toggleable__control:checked~label.sk-toggleable__label-arrow:before {content: \"▾\";}#sk-container-id-4 div.sk-estimator input.sk-toggleable__control:checked~label.sk-toggleable__label {background-color: #d4ebff;}#sk-container-id-4 div.sk-label input.sk-toggleable__control:checked~label.sk-toggleable__label {background-color: #d4ebff;}#sk-container-id-4 input.sk-hidden--visually {border: 0;clip: rect(1px 1px 1px 1px);clip: rect(1px, 1px, 1px, 1px);height: 1px;margin: -1px;overflow: hidden;padding: 0;position: absolute;width: 1px;}#sk-container-id-4 div.sk-estimator {font-family: monospace;background-color: #f0f8ff;border: 1px dotted black;border-radius: 0.25em;box-sizing: border-box;margin-bottom: 0.5em;}#sk-container-id-4 div.sk-estimator:hover {background-color: #d4ebff;}#sk-container-id-4 div.sk-parallel-item::after {content: \"\";width: 100%;border-bottom: 1px solid gray;flex-grow: 1;}#sk-container-id-4 div.sk-label:hover label.sk-toggleable__label {background-color: #d4ebff;}#sk-container-id-4 div.sk-serial::before {content: \"\";position: absolute;border-left: 1px solid gray;box-sizing: border-box;top: 0;bottom: 0;left: 50%;z-index: 0;}#sk-container-id-4 div.sk-serial {display: flex;flex-direction: column;align-items: center;background-color: white;padding-right: 0.2em;padding-left: 0.2em;position: relative;}#sk-container-id-4 div.sk-item {position: relative;z-index: 1;}#sk-container-id-4 div.sk-parallel {display: flex;align-items: stretch;justify-content: center;background-color: white;position: relative;}#sk-container-id-4 div.sk-item::before, #sk-container-id-4 div.sk-parallel-item::before {content: \"\";position: absolute;border-left: 1px solid gray;box-sizing: border-box;top: 0;bottom: 0;left: 50%;z-index: -1;}#sk-container-id-4 div.sk-parallel-item {display: flex;flex-direction: column;z-index: 1;position: relative;background-color: white;}#sk-container-id-4 div.sk-parallel-item:first-child::after {align-self: flex-end;width: 50%;}#sk-container-id-4 div.sk-parallel-item:last-child::after {align-self: flex-start;width: 50%;}#sk-container-id-4 div.sk-parallel-item:only-child::after {width: 0;}#sk-container-id-4 div.sk-dashed-wrapped {border: 1px dashed gray;margin: 0 0.4em 0.5em 0.4em;box-sizing: border-box;padding-bottom: 0.4em;background-color: white;}#sk-container-id-4 div.sk-label label {font-family: monospace;font-weight: bold;display: inline-block;line-height: 1.2em;}#sk-container-id-4 div.sk-label-container {text-align: center;}#sk-container-id-4 div.sk-container {/* jupyter's `normalize.less` sets `[hidden] { display: none; }` but bootstrap.min.css set `[hidden] { display: none !important; }` so we also need the `!important` here to be able to override the default hidden behavior on the sphinx rendered scikit-learn.org. See: https://github.com/scikit-learn/scikit-learn/issues/21755 */display: inline-block !important;position: relative;}#sk-container-id-4 div.sk-text-repr-fallback {display: none;}</style><div id=\"sk-container-id-4\" class=\"sk-top-container\"><div class=\"sk-text-repr-fallback\"><pre>KNeighborsClassifier(n_neighbors=21)</pre><b>In a Jupyter environment, please rerun this cell to show the HTML representation or trust the notebook. <br />On GitHub, the HTML representation is unable to render, please try loading this page with nbviewer.org.</b></div><div class=\"sk-container\" hidden><div class=\"sk-item\"><div class=\"sk-estimator sk-toggleable\"><input class=\"sk-toggleable__control sk-hidden--visually\" id=\"sk-estimator-id-4\" type=\"checkbox\" checked><label for=\"sk-estimator-id-4\" class=\"sk-toggleable__label sk-toggleable__label-arrow\">KNeighborsClassifier</label><div class=\"sk-toggleable__content\"><pre>KNeighborsClassifier(n_neighbors=21)</pre></div></div></div></div></div>"
      ],
      "text/plain": [
       "KNeighborsClassifier(n_neighbors=21)"
      ]
     },
     "execution_count": 13,
     "metadata": {},
     "output_type": "execute_result"
    }
   ],
   "source": [
    "from sklearn.neighbors import KNeighborsClassifier\n",
    "knn_3 = KNeighborsClassifier(n_neighbors=3)\n",
    "knn_11 = KNeighborsClassifier(n_neighbors=11)\n",
    "knn_21 = KNeighborsClassifier(n_neighbors=21)\n",
    "\n",
    "knn_3.fit(i_tr, l_tr)\n",
    "knn_11.fit(i_tr, l_tr)\n",
    "knn_21.fit(i_tr, l_tr)"
   ]
  },
  {
   "cell_type": "code",
   "execution_count": 14,
   "id": "9b9690b5",
   "metadata": {
    "execution": {
     "iopub.execute_input": "2023-11-30T21:15:59.011669Z",
     "iopub.status.busy": "2023-11-30T21:15:59.011232Z",
     "iopub.status.idle": "2023-11-30T21:22:55.178245Z",
     "shell.execute_reply": "2023-11-30T21:22:55.177077Z"
    },
    "papermill": {
     "duration": 416.185638,
     "end_time": "2023-11-30T21:22:55.188945",
     "exception": false,
     "start_time": "2023-11-30T21:15:59.003307",
     "status": "completed"
    },
    "tags": []
   },
   "outputs": [
    {
     "name": "stdout",
     "output_type": "stream",
     "text": [
      "Classification Report (3):\n",
      "              precision    recall  f1-score   support\n",
      "\n",
      "           0       0.10      0.54      0.17       176\n",
      "           1       0.14      0.21      0.17       216\n",
      "           2       0.17      0.20      0.18       238\n",
      "           3       0.24      0.21      0.22       188\n",
      "           4       0.10      0.05      0.07       204\n",
      "           5       0.17      0.47      0.25       136\n",
      "           6       0.00      0.00      0.00        24\n",
      "           7       0.21      0.16      0.18       188\n",
      "           8       0.22      0.12      0.15       182\n",
      "           9       0.17      0.02      0.04       164\n",
      "          10       0.17      0.05      0.08       252\n",
      "          11       0.50      0.04      0.08       168\n",
      "          12       0.11      0.02      0.03       252\n",
      "          13       0.20      0.04      0.07       200\n",
      "\n",
      "    accuracy                           0.15      2588\n",
      "   macro avg       0.18      0.15      0.12      2588\n",
      "weighted avg       0.19      0.15      0.13      2588\n",
      "\n",
      "Classification Report (11):\n",
      "              precision    recall  f1-score   support\n",
      "\n",
      "           0       0.09      0.51      0.15       176\n",
      "           1       0.17      0.13      0.15       216\n",
      "           2       0.24      0.24      0.24       238\n",
      "           3       0.23      0.18      0.20       188\n",
      "           4       0.19      0.05      0.08       204\n",
      "           5       0.17      0.57      0.27       136\n",
      "           6       0.00      0.00      0.00        24\n",
      "           7       0.21      0.20      0.20       188\n",
      "           8       0.28      0.15      0.19       182\n",
      "           9       0.07      0.01      0.02       164\n",
      "          10       0.17      0.07      0.10       252\n",
      "          11       0.37      0.06      0.10       168\n",
      "          12       0.09      0.02      0.03       252\n",
      "          13       0.12      0.03      0.05       200\n",
      "\n",
      "    accuracy                           0.15      2588\n",
      "   macro avg       0.17      0.16      0.13      2588\n",
      "weighted avg       0.18      0.15      0.13      2588\n",
      "\n",
      "Classification Report(21):\n",
      "              precision    recall  f1-score   support\n",
      "\n",
      "           0       0.09      0.52      0.15       176\n",
      "           1       0.11      0.06      0.08       216\n",
      "           2       0.23      0.26      0.25       238\n",
      "           3       0.31      0.23      0.27       188\n",
      "           4       0.22      0.05      0.08       204\n",
      "           5       0.18      0.57      0.28       136\n",
      "           6       0.00      0.00      0.00        24\n",
      "           7       0.26      0.26      0.26       188\n",
      "           8       0.30      0.15      0.20       182\n",
      "           9       0.06      0.01      0.01       164\n",
      "          10       0.18      0.08      0.11       252\n",
      "          11       0.33      0.04      0.07       168\n",
      "          12       0.17      0.03      0.05       252\n",
      "          13       0.10      0.04      0.05       200\n",
      "\n",
      "    accuracy                           0.16      2588\n",
      "   macro avg       0.18      0.16      0.13      2588\n",
      "weighted avg       0.19      0.16      0.14      2588\n",
      "\n"
     ]
    },
    {
     "name": "stderr",
     "output_type": "stream",
     "text": [
      "/opt/conda/lib/python3.10/site-packages/sklearn/metrics/_classification.py:1344: UndefinedMetricWarning: Precision and F-score are ill-defined and being set to 0.0 in labels with no predicted samples. Use `zero_division` parameter to control this behavior.\n",
      "  _warn_prf(average, modifier, msg_start, len(result))\n",
      "/opt/conda/lib/python3.10/site-packages/sklearn/metrics/_classification.py:1344: UndefinedMetricWarning: Precision and F-score are ill-defined and being set to 0.0 in labels with no predicted samples. Use `zero_division` parameter to control this behavior.\n",
      "  _warn_prf(average, modifier, msg_start, len(result))\n",
      "/opt/conda/lib/python3.10/site-packages/sklearn/metrics/_classification.py:1344: UndefinedMetricWarning: Precision and F-score are ill-defined and being set to 0.0 in labels with no predicted samples. Use `zero_division` parameter to control this behavior.\n",
      "  _warn_prf(average, modifier, msg_start, len(result))\n"
     ]
    }
   ],
   "source": [
    "predictions = knn_3.predict(i_te)\n",
    "accuracy = accuracy_score(l_te, predictions)\n",
    "report = classification_report(l_te, predictions)\n",
    "accuracy_li.append([accuracy])\n",
    "print(f\"Classification Report (3):\\n{report}\")\n",
    "\n",
    "predictions = knn_11.predict(i_te)\n",
    "accuracy = accuracy_score(l_te, predictions)\n",
    "report = classification_report(l_te, predictions)\n",
    "accuracy_li.append([accuracy])\n",
    "print(f\"Classification Report (11):\\n{report}\")\n",
    "\n",
    "\n",
    "predictions = knn_21.predict(i_te)\n",
    "accuracy = accuracy_score(l_te, predictions)\n",
    "report = classification_report(l_te, predictions)\n",
    "accuracy_li.append([accuracy])\n",
    "print(f\"Classification Report(21):\\n{report}\")"
   ]
  },
  {
   "cell_type": "code",
   "execution_count": 15,
   "id": "927ef56d",
   "metadata": {
    "execution": {
     "iopub.execute_input": "2023-11-30T21:22:55.203844Z",
     "iopub.status.busy": "2023-11-30T21:22:55.203443Z",
     "iopub.status.idle": "2023-11-30T22:36:05.359185Z",
     "shell.execute_reply": "2023-11-30T22:36:05.354994Z"
    },
    "papermill": {
     "duration": 4390.180577,
     "end_time": "2023-11-30T22:36:05.376280",
     "exception": false,
     "start_time": "2023-11-30T21:22:55.195703",
     "status": "completed"
    },
    "tags": []
   },
   "outputs": [
    {
     "name": "stdout",
     "output_type": "stream",
     "text": [
      "Ensemble Learning Classification Report:\n",
      "              precision    recall  f1-score   support\n",
      "\n",
      "           0       0.10      0.59      0.17       176\n",
      "           1       0.17      0.14      0.15       216\n",
      "           2       0.25      0.37      0.30       238\n",
      "           3       0.26      0.31      0.28       188\n",
      "           4       0.20      0.04      0.07       204\n",
      "           5       0.21      0.54      0.30       136\n",
      "           6       1.00      0.04      0.08        24\n",
      "           7       0.36      0.24      0.29       188\n",
      "           8       0.47      0.21      0.29       182\n",
      "           9       0.17      0.01      0.01       164\n",
      "          10       0.19      0.07      0.10       252\n",
      "          11       0.53      0.10      0.17       168\n",
      "          12       0.18      0.02      0.04       252\n",
      "          13       0.23      0.05      0.08       200\n",
      "\n",
      "    accuracy                           0.19      2588\n",
      "   macro avg       0.31      0.20      0.17      2588\n",
      "weighted avg       0.26      0.19      0.17      2588\n",
      "\n"
     ]
    }
   ],
   "source": [
    "from sklearn.ensemble import VotingClassifier\n",
    "\n",
    "models = [('Random Forest', random_forest),\n",
    "          ('Gaussian Naive Bayes', gnb),\n",
    "          ('Decision Tree', dec_tree),\n",
    "          ('KNN (k=3)', knn_3),\n",
    "          ('KNN (k=11)', knn_11),\n",
    "          ('KNN (k=21)', knn_21)]\n",
    "\n",
    "voting_classifier = VotingClassifier(estimators=models)\n",
    "\n",
    "voting_classifier.fit(i_tr, l_tr)\n",
    "\n",
    "predictions = voting_classifier.predict(i_te)\n",
    "\n",
    "accuracy = accuracy_score(l_te, predictions)\n",
    "report = classification_report(l_te, predictions)\n",
    "\n",
    "print(f\"Ensemble Learning Classification Report:\\n{report}\")\n",
    "accuracy_li.append([accuracy])"
   ]
  },
  {
   "cell_type": "code",
   "execution_count": 16,
   "id": "1d62a3d7",
   "metadata": {
    "execution": {
     "iopub.execute_input": "2023-11-30T22:36:05.394274Z",
     "iopub.status.busy": "2023-11-30T22:36:05.393876Z",
     "iopub.status.idle": "2023-11-30T22:36:05.399742Z",
     "shell.execute_reply": "2023-11-30T22:36:05.398969Z"
    },
    "papermill": {
     "duration": 0.018405,
     "end_time": "2023-11-30T22:36:05.401624",
     "exception": false,
     "start_time": "2023-11-30T22:36:05.383219",
     "status": "completed"
    },
    "tags": []
   },
   "outputs": [],
   "source": [
    "labels = [\"Transfer Learning ResNet\", \"Our Own CNN Architecture\", \"RandomForestClassifier\", \"GaussianNB\", 'DecisionTreeClassifier', 'KNeighborsClassifier_3', \"KNeighborsClassifier_11\", \"KNeighborsClassifier_21\", \"VotingClassifier\"]"
   ]
  },
  {
   "cell_type": "code",
   "execution_count": 17,
   "id": "cc7e7ed9",
   "metadata": {
    "execution": {
     "iopub.execute_input": "2023-11-30T22:36:05.417174Z",
     "iopub.status.busy": "2023-11-30T22:36:05.416473Z",
     "iopub.status.idle": "2023-11-30T22:36:06.219332Z",
     "shell.execute_reply": "2023-11-30T22:36:06.218257Z"
    },
    "papermill": {
     "duration": 0.813298,
     "end_time": "2023-11-30T22:36:06.221899",
     "exception": false,
     "start_time": "2023-11-30T22:36:05.408601",
     "status": "completed"
    },
    "tags": []
   },
   "outputs": [
    {
     "data": {
      "text/html": [
       "<div>\n",
       "<style scoped>\n",
       "    .dataframe tbody tr th:only-of-type {\n",
       "        vertical-align: middle;\n",
       "    }\n",
       "\n",
       "    .dataframe tbody tr th {\n",
       "        vertical-align: top;\n",
       "    }\n",
       "\n",
       "    .dataframe thead th {\n",
       "        text-align: right;\n",
       "    }\n",
       "</style>\n",
       "<table border=\"1\" class=\"dataframe\">\n",
       "  <thead>\n",
       "    <tr style=\"text-align: right;\">\n",
       "      <th></th>\n",
       "      <th>Transfer Learning ResNet</th>\n",
       "      <th>Our Own CNN Architecture</th>\n",
       "      <th>RandomForestClassifier</th>\n",
       "      <th>GaussianNB</th>\n",
       "      <th>DecisionTreeClassifier</th>\n",
       "      <th>KNeighborsClassifier_3</th>\n",
       "      <th>KNeighborsClassifier_11</th>\n",
       "      <th>KNeighborsClassifier_21</th>\n",
       "      <th>VotingClassifier</th>\n",
       "    </tr>\n",
       "  </thead>\n",
       "  <tbody>\n",
       "    <tr>\n",
       "      <th>Accuracy</th>\n",
       "      <td>0.815</td>\n",
       "      <td>0.475</td>\n",
       "      <td>0.298686</td>\n",
       "      <td>0.188563</td>\n",
       "      <td>0.174652</td>\n",
       "      <td>0.150696</td>\n",
       "      <td>0.153787</td>\n",
       "      <td>0.161128</td>\n",
       "      <td>0.193586</td>\n",
       "    </tr>\n",
       "  </tbody>\n",
       "</table>\n",
       "</div>"
      ],
      "text/plain": [
       "          Transfer Learning ResNet  Our Own CNN Architecture  \\\n",
       "Accuracy                     0.815                     0.475   \n",
       "\n",
       "          RandomForestClassifier  GaussianNB  DecisionTreeClassifier  \\\n",
       "Accuracy                0.298686    0.188563                0.174652   \n",
       "\n",
       "          KNeighborsClassifier_3  KNeighborsClassifier_11  \\\n",
       "Accuracy                0.150696                 0.153787   \n",
       "\n",
       "          KNeighborsClassifier_21  VotingClassifier  \n",
       "Accuracy                 0.161128          0.193586  "
      ]
     },
     "execution_count": 17,
     "metadata": {},
     "output_type": "execute_result"
    }
   ],
   "source": [
    "import pandas as pd\n",
    "pd.DataFrame(np.array(accuracy_li).T, columns=labels, index=['Accuracy'])"
   ]
  },
  {
   "cell_type": "code",
   "execution_count": null,
   "id": "50124ca7",
   "metadata": {
    "papermill": {
     "duration": 0.007214,
     "end_time": "2023-11-30T22:36:06.236331",
     "exception": false,
     "start_time": "2023-11-30T22:36:06.229117",
     "status": "completed"
    },
    "tags": []
   },
   "outputs": [],
   "source": []
  }
 ],
 "metadata": {
  "kaggle": {
   "accelerator": "none",
   "dataSources": [
    {
     "datasetId": 3709047,
     "isSourceIdPinned": true,
     "sourceId": 6806828,
     "sourceType": "datasetVersion"
    }
   ],
   "dockerImageVersionId": 30587,
   "isGpuEnabled": false,
   "isInternetEnabled": true,
   "language": "python",
   "sourceType": "notebook"
  },
  "kernelspec": {
   "display_name": "Python 3",
   "language": "python",
   "name": "python3"
  },
  "language_info": {
   "codemirror_mode": {
    "name": "ipython",
    "version": 3
   },
   "file_extension": ".py",
   "mimetype": "text/x-python",
   "name": "python",
   "nbconvert_exporter": "python",
   "pygments_lexer": "ipython3",
   "version": "3.10.12"
  },
  "papermill": {
   "default_parameters": {},
   "duration": 8884.210657,
   "end_time": "2023-11-30T22:36:06.988790",
   "environment_variables": {},
   "exception": null,
   "input_path": "__notebook__.ipynb",
   "output_path": "__notebook__.ipynb",
   "parameters": {},
   "start_time": "2023-11-30T20:08:02.778133",
   "version": "2.4.0"
  }
 },
 "nbformat": 4,
 "nbformat_minor": 5
}
