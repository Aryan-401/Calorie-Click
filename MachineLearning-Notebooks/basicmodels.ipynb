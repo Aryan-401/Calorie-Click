{
 "cells": [
  {
   "cell_type": "code",
   "execution_count": 1,
   "id": "6e3fd470",
   "metadata": {
    "execution": {
     "iopub.execute_input": "2023-11-23T03:20:55.512861Z",
     "iopub.status.busy": "2023-11-23T03:20:55.512342Z",
     "iopub.status.idle": "2023-11-23T03:20:55.775628Z",
     "shell.execute_reply": "2023-11-23T03:20:55.774170Z"
    },
    "papermill": {
     "duration": 0.275479,
     "end_time": "2023-11-23T03:20:55.779150",
     "exception": false,
     "start_time": "2023-11-23T03:20:55.503671",
     "status": "completed"
    },
    "tags": []
   },
   "outputs": [],
   "source": [
    "import os\n",
    "import cv2\n",
    "import numpy as np\n",
    "\n",
    "def preprocess_image(image, step='full', resize=64):\n",
    "  if step not in ['full', 'half']:\n",
    "    raise ValueError()\n",
    "\n",
    "  if step == 'half':\n",
    "    return cv2.resize(image, (resize,resize))\n",
    "  else:\n",
    "    return cv2.resize(image, (224,224)).flatten().astype('float32')\n",
    "\n",
    "\n",
    "\n",
    "\n",
    "def get_images(t: str = \"Train\", resize: int = 64):\n",
    "    img = []\n",
    "    label = []\n",
    "    t = t.capitalize()\n",
    "\n",
    "    if t not in [\"Train\", \"Test\", \"Validate\"]:\n",
    "        raise ValueError()\n",
    "\n",
    "    folders = os.listdir(f'/kaggle/input/indian-food-16/{t}')\n",
    "\n",
    "    for folder in folders:\n",
    "        for image in os.listdir(f'/kaggle/input/indian-food-16/{t}/{folder}'):\n",
    "            img_og = cv2.imread(f\"/kaggle/input/indian-food-16/{t}/{folder}/{image}\")\n",
    "            img.append(preprocess_image(img_og, resize = resize))\n",
    "            label.append(folders.index(folder))\n",
    "            \n",
    "    img = np.array(img)\n",
    "    label = np.array(label)\n",
    "    return img, label"
   ]
  },
  {
   "cell_type": "code",
   "execution_count": 2,
   "id": "1b6e0984",
   "metadata": {
    "execution": {
     "iopub.execute_input": "2023-11-23T03:20:55.796290Z",
     "iopub.status.busy": "2023-11-23T03:20:55.795589Z",
     "iopub.status.idle": "2023-11-23T03:21:46.259732Z",
     "shell.execute_reply": "2023-11-23T03:21:46.258481Z"
    },
    "papermill": {
     "duration": 50.475158,
     "end_time": "2023-11-23T03:21:46.263007",
     "exception": false,
     "start_time": "2023-11-23T03:20:55.787849",
     "status": "completed"
    },
    "tags": []
   },
   "outputs": [
    {
     "name": "stdout",
     "output_type": "stream",
     "text": [
      "Training Data Loading...\n",
      "Testing Data Loading...\n",
      "Validating Data Loading...\n"
     ]
    }
   ],
   "source": [
    "print(\"Training Data Loading...\")\n",
    "i_tr, l_tr = get_images(\"Train\")\n",
    "print(\"Testing Data Loading...\")\n",
    "i_te, l_te = get_images(\"Test\")\n",
    "print(\"Validating Data Loading...\")\n",
    "i_va, l_va = get_images(\"Validate\")"
   ]
  },
  {
   "cell_type": "code",
   "execution_count": 3,
   "id": "e1860021",
   "metadata": {
    "execution": {
     "iopub.execute_input": "2023-11-23T03:21:46.278741Z",
     "iopub.status.busy": "2023-11-23T03:21:46.277479Z",
     "iopub.status.idle": "2023-11-23T03:21:47.775081Z",
     "shell.execute_reply": "2023-11-23T03:21:47.773827Z"
    },
    "papermill": {
     "duration": 1.50904,
     "end_time": "2023-11-23T03:21:47.778462",
     "exception": false,
     "start_time": "2023-11-23T03:21:46.269422",
     "status": "completed"
    },
    "tags": []
   },
   "outputs": [],
   "source": [
    "i_tr = np. concatenate((i_tr, i_va), 0)\n",
    "l_tr = np. concatenate((l_tr, l_va), 0)"
   ]
  },
  {
   "cell_type": "code",
   "execution_count": 4,
   "id": "e37d0b28",
   "metadata": {
    "execution": {
     "iopub.execute_input": "2023-11-23T03:21:47.793938Z",
     "iopub.status.busy": "2023-11-23T03:21:47.792810Z",
     "iopub.status.idle": "2023-11-23T03:21:47.800450Z",
     "shell.execute_reply": "2023-11-23T03:21:47.799089Z"
    },
    "papermill": {
     "duration": 0.018426,
     "end_time": "2023-11-23T03:21:47.803313",
     "exception": false,
     "start_time": "2023-11-23T03:21:47.784887",
     "status": "completed"
    },
    "tags": []
   },
   "outputs": [
    {
     "name": "stdout",
     "output_type": "stream",
     "text": [
      "Training Data Information\n",
      "(5207, 150528)\n",
      "(5207,)\n",
      "Testing Data Information\n",
      "(1294, 150528)\n",
      "(1294,)\n"
     ]
    }
   ],
   "source": [
    "print(\"Training Data Information\")\n",
    "print(i_tr.shape)\n",
    "print(l_tr.shape)\n",
    "print(\"Testing Data Information\")\n",
    "print(i_te.shape)\n",
    "print(l_te.shape)"
   ]
  },
  {
   "cell_type": "code",
   "execution_count": 5,
   "id": "eaeebd9a",
   "metadata": {
    "execution": {
     "iopub.execute_input": "2023-11-23T03:21:47.818551Z",
     "iopub.status.busy": "2023-11-23T03:21:47.818050Z",
     "iopub.status.idle": "2023-11-23T03:21:47.823393Z",
     "shell.execute_reply": "2023-11-23T03:21:47.822212Z"
    },
    "papermill": {
     "duration": 0.016034,
     "end_time": "2023-11-23T03:21:47.825755",
     "exception": false,
     "start_time": "2023-11-23T03:21:47.809721",
     "status": "completed"
    },
    "tags": []
   },
   "outputs": [],
   "source": [
    "accuracy_li = [[0.815], [0.475]]"
   ]
  },
  {
   "cell_type": "code",
   "execution_count": 6,
   "id": "68f4ab0b",
   "metadata": {
    "execution": {
     "iopub.execute_input": "2023-11-23T03:21:47.841096Z",
     "iopub.status.busy": "2023-11-23T03:21:47.840346Z",
     "iopub.status.idle": "2023-11-23T03:25:12.722216Z",
     "shell.execute_reply": "2023-11-23T03:25:12.721047Z"
    },
    "papermill": {
     "duration": 204.900222,
     "end_time": "2023-11-23T03:25:12.732386",
     "exception": false,
     "start_time": "2023-11-23T03:21:47.832164",
     "status": "completed"
    },
    "tags": []
   },
   "outputs": [
    {
     "data": {
      "text/html": [
       "<style>#sk-container-id-1 {color: black;background-color: white;}#sk-container-id-1 pre{padding: 0;}#sk-container-id-1 div.sk-toggleable {background-color: white;}#sk-container-id-1 label.sk-toggleable__label {cursor: pointer;display: block;width: 100%;margin-bottom: 0;padding: 0.3em;box-sizing: border-box;text-align: center;}#sk-container-id-1 label.sk-toggleable__label-arrow:before {content: \"▸\";float: left;margin-right: 0.25em;color: #696969;}#sk-container-id-1 label.sk-toggleable__label-arrow:hover:before {color: black;}#sk-container-id-1 div.sk-estimator:hover label.sk-toggleable__label-arrow:before {color: black;}#sk-container-id-1 div.sk-toggleable__content {max-height: 0;max-width: 0;overflow: hidden;text-align: left;background-color: #f0f8ff;}#sk-container-id-1 div.sk-toggleable__content pre {margin: 0.2em;color: black;border-radius: 0.25em;background-color: #f0f8ff;}#sk-container-id-1 input.sk-toggleable__control:checked~div.sk-toggleable__content {max-height: 200px;max-width: 100%;overflow: auto;}#sk-container-id-1 input.sk-toggleable__control:checked~label.sk-toggleable__label-arrow:before {content: \"▾\";}#sk-container-id-1 div.sk-estimator input.sk-toggleable__control:checked~label.sk-toggleable__label {background-color: #d4ebff;}#sk-container-id-1 div.sk-label input.sk-toggleable__control:checked~label.sk-toggleable__label {background-color: #d4ebff;}#sk-container-id-1 input.sk-hidden--visually {border: 0;clip: rect(1px 1px 1px 1px);clip: rect(1px, 1px, 1px, 1px);height: 1px;margin: -1px;overflow: hidden;padding: 0;position: absolute;width: 1px;}#sk-container-id-1 div.sk-estimator {font-family: monospace;background-color: #f0f8ff;border: 1px dotted black;border-radius: 0.25em;box-sizing: border-box;margin-bottom: 0.5em;}#sk-container-id-1 div.sk-estimator:hover {background-color: #d4ebff;}#sk-container-id-1 div.sk-parallel-item::after {content: \"\";width: 100%;border-bottom: 1px solid gray;flex-grow: 1;}#sk-container-id-1 div.sk-label:hover label.sk-toggleable__label {background-color: #d4ebff;}#sk-container-id-1 div.sk-serial::before {content: \"\";position: absolute;border-left: 1px solid gray;box-sizing: border-box;top: 0;bottom: 0;left: 50%;z-index: 0;}#sk-container-id-1 div.sk-serial {display: flex;flex-direction: column;align-items: center;background-color: white;padding-right: 0.2em;padding-left: 0.2em;position: relative;}#sk-container-id-1 div.sk-item {position: relative;z-index: 1;}#sk-container-id-1 div.sk-parallel {display: flex;align-items: stretch;justify-content: center;background-color: white;position: relative;}#sk-container-id-1 div.sk-item::before, #sk-container-id-1 div.sk-parallel-item::before {content: \"\";position: absolute;border-left: 1px solid gray;box-sizing: border-box;top: 0;bottom: 0;left: 50%;z-index: -1;}#sk-container-id-1 div.sk-parallel-item {display: flex;flex-direction: column;z-index: 1;position: relative;background-color: white;}#sk-container-id-1 div.sk-parallel-item:first-child::after {align-self: flex-end;width: 50%;}#sk-container-id-1 div.sk-parallel-item:last-child::after {align-self: flex-start;width: 50%;}#sk-container-id-1 div.sk-parallel-item:only-child::after {width: 0;}#sk-container-id-1 div.sk-dashed-wrapped {border: 1px dashed gray;margin: 0 0.4em 0.5em 0.4em;box-sizing: border-box;padding-bottom: 0.4em;background-color: white;}#sk-container-id-1 div.sk-label label {font-family: monospace;font-weight: bold;display: inline-block;line-height: 1.2em;}#sk-container-id-1 div.sk-label-container {text-align: center;}#sk-container-id-1 div.sk-container {/* jupyter's `normalize.less` sets `[hidden] { display: none; }` but bootstrap.min.css set `[hidden] { display: none !important; }` so we also need the `!important` here to be able to override the default hidden behavior on the sphinx rendered scikit-learn.org. See: https://github.com/scikit-learn/scikit-learn/issues/21755 */display: inline-block !important;position: relative;}#sk-container-id-1 div.sk-text-repr-fallback {display: none;}</style><div id=\"sk-container-id-1\" class=\"sk-top-container\"><div class=\"sk-text-repr-fallback\"><pre>RandomForestClassifier(n_estimators=101)</pre><b>In a Jupyter environment, please rerun this cell to show the HTML representation or trust the notebook. <br />On GitHub, the HTML representation is unable to render, please try loading this page with nbviewer.org.</b></div><div class=\"sk-container\" hidden><div class=\"sk-item\"><div class=\"sk-estimator sk-toggleable\"><input class=\"sk-toggleable__control sk-hidden--visually\" id=\"sk-estimator-id-1\" type=\"checkbox\" checked><label for=\"sk-estimator-id-1\" class=\"sk-toggleable__label sk-toggleable__label-arrow\">RandomForestClassifier</label><div class=\"sk-toggleable__content\"><pre>RandomForestClassifier(n_estimators=101)</pre></div></div></div></div></div>"
      ],
      "text/plain": [
       "RandomForestClassifier(n_estimators=101)"
      ]
     },
     "execution_count": 6,
     "metadata": {},
     "output_type": "execute_result"
    }
   ],
   "source": [
    "from sklearn.ensemble import RandomForestClassifier\n",
    "\n",
    "random_forest = RandomForestClassifier(n_estimators=101)\n",
    "random_forest.fit(i_tr, l_tr)"
   ]
  },
  {
   "cell_type": "code",
   "execution_count": 7,
   "id": "e178f019",
   "metadata": {
    "execution": {
     "iopub.execute_input": "2023-11-23T03:25:12.749216Z",
     "iopub.status.busy": "2023-11-23T03:25:12.748435Z",
     "iopub.status.idle": "2023-11-23T03:25:13.020422Z",
     "shell.execute_reply": "2023-11-23T03:25:13.018141Z"
    },
    "papermill": {
     "duration": 0.284302,
     "end_time": "2023-11-23T03:25:13.023520",
     "exception": false,
     "start_time": "2023-11-23T03:25:12.739218",
     "status": "completed"
    },
    "tags": []
   },
   "outputs": [
    {
     "name": "stdout",
     "output_type": "stream",
     "text": [
      "Classification Report:\n",
      "              precision    recall  f1-score   support\n",
      "\n",
      "           0       0.32      0.26      0.29        88\n",
      "           1       0.15      0.15      0.15       108\n",
      "           2       0.31      0.53      0.39       119\n",
      "           3       0.44      0.40      0.42        94\n",
      "           4       0.26      0.16      0.20       102\n",
      "           5       0.54      0.37      0.44        68\n",
      "           6       0.00      0.00      0.00        12\n",
      "           7       0.35      0.28      0.31        94\n",
      "           8       0.45      0.48      0.47        91\n",
      "           9       0.43      0.12      0.19        82\n",
      "          10       0.19      0.30      0.23       126\n",
      "          11       0.37      0.32      0.34        84\n",
      "          12       0.22      0.26      0.24       126\n",
      "          13       0.23      0.22      0.22       100\n",
      "\n",
      "    accuracy                           0.29      1294\n",
      "   macro avg       0.30      0.28      0.28      1294\n",
      "weighted avg       0.31      0.29      0.29      1294\n",
      "\n"
     ]
    },
    {
     "name": "stderr",
     "output_type": "stream",
     "text": [
      "/opt/conda/lib/python3.10/site-packages/sklearn/metrics/_classification.py:1344: UndefinedMetricWarning: Precision and F-score are ill-defined and being set to 0.0 in labels with no predicted samples. Use `zero_division` parameter to control this behavior.\n",
      "  _warn_prf(average, modifier, msg_start, len(result))\n",
      "/opt/conda/lib/python3.10/site-packages/sklearn/metrics/_classification.py:1344: UndefinedMetricWarning: Precision and F-score are ill-defined and being set to 0.0 in labels with no predicted samples. Use `zero_division` parameter to control this behavior.\n",
      "  _warn_prf(average, modifier, msg_start, len(result))\n",
      "/opt/conda/lib/python3.10/site-packages/sklearn/metrics/_classification.py:1344: UndefinedMetricWarning: Precision and F-score are ill-defined and being set to 0.0 in labels with no predicted samples. Use `zero_division` parameter to control this behavior.\n",
      "  _warn_prf(average, modifier, msg_start, len(result))\n"
     ]
    }
   ],
   "source": [
    "from sklearn.metrics import accuracy_score, classification_report\n",
    "predictions = random_forest.predict(i_te)\n",
    "accuracy = accuracy_score(l_te, predictions)\n",
    "report = classification_report(l_te, predictions)\n",
    "accuracy_li.append([accuracy])\n",
    "print(f\"Classification Report:\\n{report}\")\n"
   ]
  },
  {
   "cell_type": "code",
   "execution_count": 8,
   "id": "2a15bd7a",
   "metadata": {
    "execution": {
     "iopub.execute_input": "2023-11-23T03:25:13.040130Z",
     "iopub.status.busy": "2023-11-23T03:25:13.039009Z",
     "iopub.status.idle": "2023-11-23T03:25:19.883582Z",
     "shell.execute_reply": "2023-11-23T03:25:19.882387Z"
    },
    "papermill": {
     "duration": 6.856207,
     "end_time": "2023-11-23T03:25:19.886658",
     "exception": false,
     "start_time": "2023-11-23T03:25:13.030451",
     "status": "completed"
    },
    "tags": []
   },
   "outputs": [
    {
     "data": {
      "text/html": [
       "<style>#sk-container-id-2 {color: black;background-color: white;}#sk-container-id-2 pre{padding: 0;}#sk-container-id-2 div.sk-toggleable {background-color: white;}#sk-container-id-2 label.sk-toggleable__label {cursor: pointer;display: block;width: 100%;margin-bottom: 0;padding: 0.3em;box-sizing: border-box;text-align: center;}#sk-container-id-2 label.sk-toggleable__label-arrow:before {content: \"▸\";float: left;margin-right: 0.25em;color: #696969;}#sk-container-id-2 label.sk-toggleable__label-arrow:hover:before {color: black;}#sk-container-id-2 div.sk-estimator:hover label.sk-toggleable__label-arrow:before {color: black;}#sk-container-id-2 div.sk-toggleable__content {max-height: 0;max-width: 0;overflow: hidden;text-align: left;background-color: #f0f8ff;}#sk-container-id-2 div.sk-toggleable__content pre {margin: 0.2em;color: black;border-radius: 0.25em;background-color: #f0f8ff;}#sk-container-id-2 input.sk-toggleable__control:checked~div.sk-toggleable__content {max-height: 200px;max-width: 100%;overflow: auto;}#sk-container-id-2 input.sk-toggleable__control:checked~label.sk-toggleable__label-arrow:before {content: \"▾\";}#sk-container-id-2 div.sk-estimator input.sk-toggleable__control:checked~label.sk-toggleable__label {background-color: #d4ebff;}#sk-container-id-2 div.sk-label input.sk-toggleable__control:checked~label.sk-toggleable__label {background-color: #d4ebff;}#sk-container-id-2 input.sk-hidden--visually {border: 0;clip: rect(1px 1px 1px 1px);clip: rect(1px, 1px, 1px, 1px);height: 1px;margin: -1px;overflow: hidden;padding: 0;position: absolute;width: 1px;}#sk-container-id-2 div.sk-estimator {font-family: monospace;background-color: #f0f8ff;border: 1px dotted black;border-radius: 0.25em;box-sizing: border-box;margin-bottom: 0.5em;}#sk-container-id-2 div.sk-estimator:hover {background-color: #d4ebff;}#sk-container-id-2 div.sk-parallel-item::after {content: \"\";width: 100%;border-bottom: 1px solid gray;flex-grow: 1;}#sk-container-id-2 div.sk-label:hover label.sk-toggleable__label {background-color: #d4ebff;}#sk-container-id-2 div.sk-serial::before {content: \"\";position: absolute;border-left: 1px solid gray;box-sizing: border-box;top: 0;bottom: 0;left: 50%;z-index: 0;}#sk-container-id-2 div.sk-serial {display: flex;flex-direction: column;align-items: center;background-color: white;padding-right: 0.2em;padding-left: 0.2em;position: relative;}#sk-container-id-2 div.sk-item {position: relative;z-index: 1;}#sk-container-id-2 div.sk-parallel {display: flex;align-items: stretch;justify-content: center;background-color: white;position: relative;}#sk-container-id-2 div.sk-item::before, #sk-container-id-2 div.sk-parallel-item::before {content: \"\";position: absolute;border-left: 1px solid gray;box-sizing: border-box;top: 0;bottom: 0;left: 50%;z-index: -1;}#sk-container-id-2 div.sk-parallel-item {display: flex;flex-direction: column;z-index: 1;position: relative;background-color: white;}#sk-container-id-2 div.sk-parallel-item:first-child::after {align-self: flex-end;width: 50%;}#sk-container-id-2 div.sk-parallel-item:last-child::after {align-self: flex-start;width: 50%;}#sk-container-id-2 div.sk-parallel-item:only-child::after {width: 0;}#sk-container-id-2 div.sk-dashed-wrapped {border: 1px dashed gray;margin: 0 0.4em 0.5em 0.4em;box-sizing: border-box;padding-bottom: 0.4em;background-color: white;}#sk-container-id-2 div.sk-label label {font-family: monospace;font-weight: bold;display: inline-block;line-height: 1.2em;}#sk-container-id-2 div.sk-label-container {text-align: center;}#sk-container-id-2 div.sk-container {/* jupyter's `normalize.less` sets `[hidden] { display: none; }` but bootstrap.min.css set `[hidden] { display: none !important; }` so we also need the `!important` here to be able to override the default hidden behavior on the sphinx rendered scikit-learn.org. See: https://github.com/scikit-learn/scikit-learn/issues/21755 */display: inline-block !important;position: relative;}#sk-container-id-2 div.sk-text-repr-fallback {display: none;}</style><div id=\"sk-container-id-2\" class=\"sk-top-container\"><div class=\"sk-text-repr-fallback\"><pre>GaussianNB()</pre><b>In a Jupyter environment, please rerun this cell to show the HTML representation or trust the notebook. <br />On GitHub, the HTML representation is unable to render, please try loading this page with nbviewer.org.</b></div><div class=\"sk-container\" hidden><div class=\"sk-item\"><div class=\"sk-estimator sk-toggleable\"><input class=\"sk-toggleable__control sk-hidden--visually\" id=\"sk-estimator-id-2\" type=\"checkbox\" checked><label for=\"sk-estimator-id-2\" class=\"sk-toggleable__label sk-toggleable__label-arrow\">GaussianNB</label><div class=\"sk-toggleable__content\"><pre>GaussianNB()</pre></div></div></div></div></div>"
      ],
      "text/plain": [
       "GaussianNB()"
      ]
     },
     "execution_count": 8,
     "metadata": {},
     "output_type": "execute_result"
    }
   ],
   "source": [
    "from sklearn.naive_bayes import GaussianNB\n",
    "gnb = GaussianNB()\n",
    "gnb.fit(i_tr, l_tr)"
   ]
  },
  {
   "cell_type": "code",
   "execution_count": 9,
   "id": "1d08244b",
   "metadata": {
    "execution": {
     "iopub.execute_input": "2023-11-23T03:25:19.903641Z",
     "iopub.status.busy": "2023-11-23T03:25:19.902495Z",
     "iopub.status.idle": "2023-11-23T03:25:41.136900Z",
     "shell.execute_reply": "2023-11-23T03:25:41.135752Z"
    },
    "papermill": {
     "duration": 21.245852,
     "end_time": "2023-11-23T03:25:41.139662",
     "exception": false,
     "start_time": "2023-11-23T03:25:19.893810",
     "status": "completed"
    },
    "tags": []
   },
   "outputs": [
    {
     "name": "stdout",
     "output_type": "stream",
     "text": [
      "Classification Report:\n",
      "              precision    recall  f1-score   support\n",
      "\n",
      "           0       0.19      0.17      0.18        88\n",
      "           1       0.32      0.06      0.09       108\n",
      "           2       0.21      0.49      0.30       119\n",
      "           3       0.16      0.51      0.24        94\n",
      "           4       0.14      0.03      0.05       102\n",
      "           5       0.10      0.19      0.13        68\n",
      "           6       0.06      0.17      0.09        12\n",
      "           7       0.39      0.18      0.25        94\n",
      "           8       0.34      0.38      0.36        91\n",
      "           9       0.29      0.07      0.12        82\n",
      "          10       0.00      0.00      0.00       126\n",
      "          11       0.22      0.25      0.23        84\n",
      "          12       0.14      0.02      0.04       126\n",
      "          13       0.14      0.21      0.17       100\n",
      "\n",
      "    accuracy                           0.19      1294\n",
      "   macro avg       0.19      0.20      0.16      1294\n",
      "weighted avg       0.20      0.19      0.16      1294\n",
      "\n"
     ]
    }
   ],
   "source": [
    "predictions = gnb.predict(i_te)\n",
    "accuracy = accuracy_score(l_te, predictions)\n",
    "report = classification_report(l_te, predictions)\n",
    "accuracy_li.append([accuracy])\n",
    "print(f\"Classification Report:\\n{report}\")\n"
   ]
  },
  {
   "cell_type": "code",
   "execution_count": 10,
   "id": "46f17cd7",
   "metadata": {
    "execution": {
     "iopub.execute_input": "2023-11-23T03:25:41.156948Z",
     "iopub.status.busy": "2023-11-23T03:25:41.156215Z",
     "iopub.status.idle": "2023-11-23T03:44:56.517246Z",
     "shell.execute_reply": "2023-11-23T03:44:56.515928Z"
    },
    "papermill": {
     "duration": 1155.380354,
     "end_time": "2023-11-23T03:44:56.527470",
     "exception": false,
     "start_time": "2023-11-23T03:25:41.147116",
     "status": "completed"
    },
    "tags": []
   },
   "outputs": [
    {
     "data": {
      "text/html": [
       "<style>#sk-container-id-3 {color: black;background-color: white;}#sk-container-id-3 pre{padding: 0;}#sk-container-id-3 div.sk-toggleable {background-color: white;}#sk-container-id-3 label.sk-toggleable__label {cursor: pointer;display: block;width: 100%;margin-bottom: 0;padding: 0.3em;box-sizing: border-box;text-align: center;}#sk-container-id-3 label.sk-toggleable__label-arrow:before {content: \"▸\";float: left;margin-right: 0.25em;color: #696969;}#sk-container-id-3 label.sk-toggleable__label-arrow:hover:before {color: black;}#sk-container-id-3 div.sk-estimator:hover label.sk-toggleable__label-arrow:before {color: black;}#sk-container-id-3 div.sk-toggleable__content {max-height: 0;max-width: 0;overflow: hidden;text-align: left;background-color: #f0f8ff;}#sk-container-id-3 div.sk-toggleable__content pre {margin: 0.2em;color: black;border-radius: 0.25em;background-color: #f0f8ff;}#sk-container-id-3 input.sk-toggleable__control:checked~div.sk-toggleable__content {max-height: 200px;max-width: 100%;overflow: auto;}#sk-container-id-3 input.sk-toggleable__control:checked~label.sk-toggleable__label-arrow:before {content: \"▾\";}#sk-container-id-3 div.sk-estimator input.sk-toggleable__control:checked~label.sk-toggleable__label {background-color: #d4ebff;}#sk-container-id-3 div.sk-label input.sk-toggleable__control:checked~label.sk-toggleable__label {background-color: #d4ebff;}#sk-container-id-3 input.sk-hidden--visually {border: 0;clip: rect(1px 1px 1px 1px);clip: rect(1px, 1px, 1px, 1px);height: 1px;margin: -1px;overflow: hidden;padding: 0;position: absolute;width: 1px;}#sk-container-id-3 div.sk-estimator {font-family: monospace;background-color: #f0f8ff;border: 1px dotted black;border-radius: 0.25em;box-sizing: border-box;margin-bottom: 0.5em;}#sk-container-id-3 div.sk-estimator:hover {background-color: #d4ebff;}#sk-container-id-3 div.sk-parallel-item::after {content: \"\";width: 100%;border-bottom: 1px solid gray;flex-grow: 1;}#sk-container-id-3 div.sk-label:hover label.sk-toggleable__label {background-color: #d4ebff;}#sk-container-id-3 div.sk-serial::before {content: \"\";position: absolute;border-left: 1px solid gray;box-sizing: border-box;top: 0;bottom: 0;left: 50%;z-index: 0;}#sk-container-id-3 div.sk-serial {display: flex;flex-direction: column;align-items: center;background-color: white;padding-right: 0.2em;padding-left: 0.2em;position: relative;}#sk-container-id-3 div.sk-item {position: relative;z-index: 1;}#sk-container-id-3 div.sk-parallel {display: flex;align-items: stretch;justify-content: center;background-color: white;position: relative;}#sk-container-id-3 div.sk-item::before, #sk-container-id-3 div.sk-parallel-item::before {content: \"\";position: absolute;border-left: 1px solid gray;box-sizing: border-box;top: 0;bottom: 0;left: 50%;z-index: -1;}#sk-container-id-3 div.sk-parallel-item {display: flex;flex-direction: column;z-index: 1;position: relative;background-color: white;}#sk-container-id-3 div.sk-parallel-item:first-child::after {align-self: flex-end;width: 50%;}#sk-container-id-3 div.sk-parallel-item:last-child::after {align-self: flex-start;width: 50%;}#sk-container-id-3 div.sk-parallel-item:only-child::after {width: 0;}#sk-container-id-3 div.sk-dashed-wrapped {border: 1px dashed gray;margin: 0 0.4em 0.5em 0.4em;box-sizing: border-box;padding-bottom: 0.4em;background-color: white;}#sk-container-id-3 div.sk-label label {font-family: monospace;font-weight: bold;display: inline-block;line-height: 1.2em;}#sk-container-id-3 div.sk-label-container {text-align: center;}#sk-container-id-3 div.sk-container {/* jupyter's `normalize.less` sets `[hidden] { display: none; }` but bootstrap.min.css set `[hidden] { display: none !important; }` so we also need the `!important` here to be able to override the default hidden behavior on the sphinx rendered scikit-learn.org. See: https://github.com/scikit-learn/scikit-learn/issues/21755 */display: inline-block !important;position: relative;}#sk-container-id-3 div.sk-text-repr-fallback {display: none;}</style><div id=\"sk-container-id-3\" class=\"sk-top-container\"><div class=\"sk-text-repr-fallback\"><pre>DecisionTreeClassifier()</pre><b>In a Jupyter environment, please rerun this cell to show the HTML representation or trust the notebook. <br />On GitHub, the HTML representation is unable to render, please try loading this page with nbviewer.org.</b></div><div class=\"sk-container\" hidden><div class=\"sk-item\"><div class=\"sk-estimator sk-toggleable\"><input class=\"sk-toggleable__control sk-hidden--visually\" id=\"sk-estimator-id-3\" type=\"checkbox\" checked><label for=\"sk-estimator-id-3\" class=\"sk-toggleable__label sk-toggleable__label-arrow\">DecisionTreeClassifier</label><div class=\"sk-toggleable__content\"><pre>DecisionTreeClassifier()</pre></div></div></div></div></div>"
      ],
      "text/plain": [
       "DecisionTreeClassifier()"
      ]
     },
     "execution_count": 10,
     "metadata": {},
     "output_type": "execute_result"
    }
   ],
   "source": [
    "from sklearn import tree\n",
    "dec_tree = tree.DecisionTreeClassifier()\n",
    "dec_tree.fit(i_tr, l_tr)"
   ]
  },
  {
   "cell_type": "code",
   "execution_count": 11,
   "id": "96cf92ff",
   "metadata": {
    "execution": {
     "iopub.execute_input": "2023-11-23T03:44:56.547451Z",
     "iopub.status.busy": "2023-11-23T03:44:56.546937Z",
     "iopub.status.idle": "2023-11-23T03:44:56.695935Z",
     "shell.execute_reply": "2023-11-23T03:44:56.694585Z"
    },
    "papermill": {
     "duration": 0.161817,
     "end_time": "2023-11-23T03:44:56.698790",
     "exception": false,
     "start_time": "2023-11-23T03:44:56.536973",
     "status": "completed"
    },
    "tags": []
   },
   "outputs": [
    {
     "name": "stdout",
     "output_type": "stream",
     "text": [
      "Classification Report:\n",
      "              precision    recall  f1-score   support\n",
      "\n",
      "           0       0.23      0.26      0.25        88\n",
      "           1       0.12      0.12      0.12       108\n",
      "           2       0.22      0.21      0.22       119\n",
      "           3       0.22      0.21      0.22        94\n",
      "           4       0.15      0.15      0.15       102\n",
      "           5       0.19      0.22      0.20        68\n",
      "           6       0.17      0.08      0.11        12\n",
      "           7       0.18      0.17      0.18        94\n",
      "           8       0.26      0.29      0.27        91\n",
      "           9       0.17      0.17      0.17        82\n",
      "          10       0.16      0.17      0.16       126\n",
      "          11       0.20      0.19      0.19        84\n",
      "          12       0.17      0.17      0.17       126\n",
      "          13       0.18      0.18      0.18       100\n",
      "\n",
      "    accuracy                           0.19      1294\n",
      "   macro avg       0.19      0.18      0.19      1294\n",
      "weighted avg       0.19      0.19      0.19      1294\n",
      "\n"
     ]
    }
   ],
   "source": [
    "predictions = dec_tree.predict(i_te)\n",
    "accuracy = accuracy_score(l_te, predictions)\n",
    "report = classification_report(l_te, predictions)\n",
    "accuracy_li.append([accuracy])\n",
    "print(f\"Classification Report:\\n{report}\")\n"
   ]
  },
  {
   "cell_type": "code",
   "execution_count": 12,
   "id": "17e3781d",
   "metadata": {
    "execution": {
     "iopub.execute_input": "2023-11-23T03:44:56.716818Z",
     "iopub.status.busy": "2023-11-23T03:44:56.716292Z",
     "iopub.status.idle": "2023-11-23T03:44:57.704686Z",
     "shell.execute_reply": "2023-11-23T03:44:57.703480Z"
    },
    "papermill": {
     "duration": 1.001117,
     "end_time": "2023-11-23T03:44:57.707621",
     "exception": false,
     "start_time": "2023-11-23T03:44:56.706504",
     "status": "completed"
    },
    "tags": []
   },
   "outputs": [
    {
     "data": {
      "text/html": [
       "<style>#sk-container-id-4 {color: black;background-color: white;}#sk-container-id-4 pre{padding: 0;}#sk-container-id-4 div.sk-toggleable {background-color: white;}#sk-container-id-4 label.sk-toggleable__label {cursor: pointer;display: block;width: 100%;margin-bottom: 0;padding: 0.3em;box-sizing: border-box;text-align: center;}#sk-container-id-4 label.sk-toggleable__label-arrow:before {content: \"▸\";float: left;margin-right: 0.25em;color: #696969;}#sk-container-id-4 label.sk-toggleable__label-arrow:hover:before {color: black;}#sk-container-id-4 div.sk-estimator:hover label.sk-toggleable__label-arrow:before {color: black;}#sk-container-id-4 div.sk-toggleable__content {max-height: 0;max-width: 0;overflow: hidden;text-align: left;background-color: #f0f8ff;}#sk-container-id-4 div.sk-toggleable__content pre {margin: 0.2em;color: black;border-radius: 0.25em;background-color: #f0f8ff;}#sk-container-id-4 input.sk-toggleable__control:checked~div.sk-toggleable__content {max-height: 200px;max-width: 100%;overflow: auto;}#sk-container-id-4 input.sk-toggleable__control:checked~label.sk-toggleable__label-arrow:before {content: \"▾\";}#sk-container-id-4 div.sk-estimator input.sk-toggleable__control:checked~label.sk-toggleable__label {background-color: #d4ebff;}#sk-container-id-4 div.sk-label input.sk-toggleable__control:checked~label.sk-toggleable__label {background-color: #d4ebff;}#sk-container-id-4 input.sk-hidden--visually {border: 0;clip: rect(1px 1px 1px 1px);clip: rect(1px, 1px, 1px, 1px);height: 1px;margin: -1px;overflow: hidden;padding: 0;position: absolute;width: 1px;}#sk-container-id-4 div.sk-estimator {font-family: monospace;background-color: #f0f8ff;border: 1px dotted black;border-radius: 0.25em;box-sizing: border-box;margin-bottom: 0.5em;}#sk-container-id-4 div.sk-estimator:hover {background-color: #d4ebff;}#sk-container-id-4 div.sk-parallel-item::after {content: \"\";width: 100%;border-bottom: 1px solid gray;flex-grow: 1;}#sk-container-id-4 div.sk-label:hover label.sk-toggleable__label {background-color: #d4ebff;}#sk-container-id-4 div.sk-serial::before {content: \"\";position: absolute;border-left: 1px solid gray;box-sizing: border-box;top: 0;bottom: 0;left: 50%;z-index: 0;}#sk-container-id-4 div.sk-serial {display: flex;flex-direction: column;align-items: center;background-color: white;padding-right: 0.2em;padding-left: 0.2em;position: relative;}#sk-container-id-4 div.sk-item {position: relative;z-index: 1;}#sk-container-id-4 div.sk-parallel {display: flex;align-items: stretch;justify-content: center;background-color: white;position: relative;}#sk-container-id-4 div.sk-item::before, #sk-container-id-4 div.sk-parallel-item::before {content: \"\";position: absolute;border-left: 1px solid gray;box-sizing: border-box;top: 0;bottom: 0;left: 50%;z-index: -1;}#sk-container-id-4 div.sk-parallel-item {display: flex;flex-direction: column;z-index: 1;position: relative;background-color: white;}#sk-container-id-4 div.sk-parallel-item:first-child::after {align-self: flex-end;width: 50%;}#sk-container-id-4 div.sk-parallel-item:last-child::after {align-self: flex-start;width: 50%;}#sk-container-id-4 div.sk-parallel-item:only-child::after {width: 0;}#sk-container-id-4 div.sk-dashed-wrapped {border: 1px dashed gray;margin: 0 0.4em 0.5em 0.4em;box-sizing: border-box;padding-bottom: 0.4em;background-color: white;}#sk-container-id-4 div.sk-label label {font-family: monospace;font-weight: bold;display: inline-block;line-height: 1.2em;}#sk-container-id-4 div.sk-label-container {text-align: center;}#sk-container-id-4 div.sk-container {/* jupyter's `normalize.less` sets `[hidden] { display: none; }` but bootstrap.min.css set `[hidden] { display: none !important; }` so we also need the `!important` here to be able to override the default hidden behavior on the sphinx rendered scikit-learn.org. See: https://github.com/scikit-learn/scikit-learn/issues/21755 */display: inline-block !important;position: relative;}#sk-container-id-4 div.sk-text-repr-fallback {display: none;}</style><div id=\"sk-container-id-4\" class=\"sk-top-container\"><div class=\"sk-text-repr-fallback\"><pre>KNeighborsClassifier(n_neighbors=21)</pre><b>In a Jupyter environment, please rerun this cell to show the HTML representation or trust the notebook. <br />On GitHub, the HTML representation is unable to render, please try loading this page with nbviewer.org.</b></div><div class=\"sk-container\" hidden><div class=\"sk-item\"><div class=\"sk-estimator sk-toggleable\"><input class=\"sk-toggleable__control sk-hidden--visually\" id=\"sk-estimator-id-4\" type=\"checkbox\" checked><label for=\"sk-estimator-id-4\" class=\"sk-toggleable__label sk-toggleable__label-arrow\">KNeighborsClassifier</label><div class=\"sk-toggleable__content\"><pre>KNeighborsClassifier(n_neighbors=21)</pre></div></div></div></div></div>"
      ],
      "text/plain": [
       "KNeighborsClassifier(n_neighbors=21)"
      ]
     },
     "execution_count": 12,
     "metadata": {},
     "output_type": "execute_result"
    }
   ],
   "source": [
    "from sklearn.neighbors import KNeighborsClassifier\n",
    "knn_3 = KNeighborsClassifier(n_neighbors=3)\n",
    "knn_11 = KNeighborsClassifier(n_neighbors=11)\n",
    "knn_21 = KNeighborsClassifier(n_neighbors=21)\n",
    "\n",
    "knn_3.fit(i_tr, l_tr)\n",
    "knn_11.fit(i_tr, l_tr)\n",
    "knn_21.fit(i_tr, l_tr)"
   ]
  },
  {
   "cell_type": "code",
   "execution_count": 13,
   "id": "eaf1ba58",
   "metadata": {
    "execution": {
     "iopub.execute_input": "2023-11-23T03:44:57.727137Z",
     "iopub.status.busy": "2023-11-23T03:44:57.725903Z",
     "iopub.status.idle": "2023-11-23T03:47:17.374176Z",
     "shell.execute_reply": "2023-11-23T03:47:17.371823Z"
    },
    "papermill": {
     "duration": 139.671453,
     "end_time": "2023-11-23T03:47:17.387300",
     "exception": false,
     "start_time": "2023-11-23T03:44:57.715847",
     "status": "completed"
    },
    "tags": []
   },
   "outputs": [
    {
     "name": "stdout",
     "output_type": "stream",
     "text": [
      "Classification Report (3):\n",
      "              precision    recall  f1-score   support\n",
      "\n",
      "           0       0.11      0.60      0.18        88\n",
      "           1       0.15      0.23      0.18       108\n",
      "           2       0.15      0.18      0.16       119\n",
      "           3       0.23      0.18      0.20        94\n",
      "           4       0.16      0.08      0.10       102\n",
      "           5       0.14      0.40      0.20        68\n",
      "           6       0.00      0.00      0.00        12\n",
      "           7       0.19      0.11      0.14        94\n",
      "           8       0.21      0.11      0.14        91\n",
      "           9       0.00      0.00      0.00        82\n",
      "          10       0.28      0.06      0.10       126\n",
      "          11       0.50      0.02      0.05        84\n",
      "          12       0.14      0.02      0.03       126\n",
      "          13       0.08      0.01      0.02       100\n",
      "\n",
      "    accuracy                           0.14      1294\n",
      "   macro avg       0.17      0.14      0.11      1294\n",
      "weighted avg       0.18      0.14      0.11      1294\n",
      "\n",
      "Classification Report (11):\n",
      "              precision    recall  f1-score   support\n",
      "\n",
      "           0       0.09      0.52      0.15        88\n",
      "           1       0.20      0.15      0.17       108\n",
      "           2       0.25      0.23      0.24       119\n",
      "           3       0.29      0.23      0.26        94\n",
      "           4       0.17      0.06      0.09       102\n",
      "           5       0.16      0.51      0.25        68\n",
      "           6       0.00      0.00      0.00        12\n",
      "           7       0.28      0.23      0.25        94\n",
      "           8       0.30      0.16      0.21        91\n",
      "           9       0.08      0.01      0.02        82\n",
      "          10       0.24      0.09      0.13       126\n",
      "          11       0.27      0.04      0.06        84\n",
      "          12       0.06      0.02      0.03       126\n",
      "          13       0.08      0.03      0.04       100\n",
      "\n",
      "    accuracy                           0.16      1294\n",
      "   macro avg       0.18      0.16      0.14      1294\n",
      "weighted avg       0.19      0.16      0.14      1294\n",
      "\n",
      "Classification Report(21):\n",
      "              precision    recall  f1-score   support\n",
      "\n",
      "           0       0.09      0.51      0.15        88\n",
      "           1       0.10      0.06      0.07       108\n",
      "           2       0.22      0.24      0.23       119\n",
      "           3       0.30      0.22      0.25        94\n",
      "           4       0.15      0.04      0.06       102\n",
      "           5       0.15      0.49      0.23        68\n",
      "           6       0.00      0.00      0.00        12\n",
      "           7       0.21      0.22      0.22        94\n",
      "           8       0.32      0.18      0.23        91\n",
      "           9       0.00      0.00      0.00        82\n",
      "          10       0.20      0.08      0.11       126\n",
      "          11       0.12      0.01      0.02        84\n",
      "          12       0.12      0.02      0.04       126\n",
      "          13       0.07      0.02      0.03       100\n",
      "\n",
      "    accuracy                           0.15      1294\n",
      "   macro avg       0.15      0.15      0.12      1294\n",
      "weighted avg       0.16      0.15      0.12      1294\n",
      "\n"
     ]
    },
    {
     "name": "stderr",
     "output_type": "stream",
     "text": [
      "/opt/conda/lib/python3.10/site-packages/sklearn/metrics/_classification.py:1344: UndefinedMetricWarning: Precision and F-score are ill-defined and being set to 0.0 in labels with no predicted samples. Use `zero_division` parameter to control this behavior.\n",
      "  _warn_prf(average, modifier, msg_start, len(result))\n",
      "/opt/conda/lib/python3.10/site-packages/sklearn/metrics/_classification.py:1344: UndefinedMetricWarning: Precision and F-score are ill-defined and being set to 0.0 in labels with no predicted samples. Use `zero_division` parameter to control this behavior.\n",
      "  _warn_prf(average, modifier, msg_start, len(result))\n",
      "/opt/conda/lib/python3.10/site-packages/sklearn/metrics/_classification.py:1344: UndefinedMetricWarning: Precision and F-score are ill-defined and being set to 0.0 in labels with no predicted samples. Use `zero_division` parameter to control this behavior.\n",
      "  _warn_prf(average, modifier, msg_start, len(result))\n"
     ]
    }
   ],
   "source": [
    "predictions = knn_3.predict(i_te)\n",
    "accuracy = accuracy_score(l_te, predictions)\n",
    "report = classification_report(l_te, predictions)\n",
    "accuracy_li.append([accuracy])\n",
    "print(f\"Classification Report (3):\\n{report}\")\n",
    "\n",
    "predictions = knn_11.predict(i_te)\n",
    "accuracy = accuracy_score(l_te, predictions)\n",
    "report = classification_report(l_te, predictions)\n",
    "accuracy_li.append([accuracy])\n",
    "print(f\"Classification Report (11):\\n{report}\")\n",
    "\n",
    "\n",
    "predictions = knn_21.predict(i_te)\n",
    "accuracy = accuracy_score(l_te, predictions)\n",
    "report = classification_report(l_te, predictions)\n",
    "accuracy_li.append([accuracy])\n",
    "print(f\"Classification Report(21):\\n{report}\")"
   ]
  },
  {
   "cell_type": "code",
   "execution_count": 14,
   "id": "083ec06b",
   "metadata": {
    "execution": {
     "iopub.execute_input": "2023-11-23T03:47:17.408485Z",
     "iopub.status.busy": "2023-11-23T03:47:17.407343Z",
     "iopub.status.idle": "2023-11-23T03:47:17.414975Z",
     "shell.execute_reply": "2023-11-23T03:47:17.413493Z"
    },
    "papermill": {
     "duration": 0.021778,
     "end_time": "2023-11-23T03:47:17.417679",
     "exception": false,
     "start_time": "2023-11-23T03:47:17.395901",
     "status": "completed"
    },
    "tags": []
   },
   "outputs": [],
   "source": [
    "labels = [\"Transfer Learning ResNet\", \"Our Own CNN Architecture\", \"RandomForestClassifier\", \"GaussianNB\", 'DecisionTreeClassifier', 'KNeighborsClassifier_3', \"KNeighborsClassifier_11\", \"KNeighborsClassifier_21\"]"
   ]
  },
  {
   "cell_type": "code",
   "execution_count": 15,
   "id": "99882f51",
   "metadata": {
    "execution": {
     "iopub.execute_input": "2023-11-23T03:47:17.436523Z",
     "iopub.status.busy": "2023-11-23T03:47:17.436119Z",
     "iopub.status.idle": "2023-11-23T03:47:18.092427Z",
     "shell.execute_reply": "2023-11-23T03:47:18.091080Z"
    },
    "papermill": {
     "duration": 0.669382,
     "end_time": "2023-11-23T03:47:18.095598",
     "exception": false,
     "start_time": "2023-11-23T03:47:17.426216",
     "status": "completed"
    },
    "tags": []
   },
   "outputs": [
    {
     "data": {
      "text/html": [
       "<div>\n",
       "<style scoped>\n",
       "    .dataframe tbody tr th:only-of-type {\n",
       "        vertical-align: middle;\n",
       "    }\n",
       "\n",
       "    .dataframe tbody tr th {\n",
       "        vertical-align: top;\n",
       "    }\n",
       "\n",
       "    .dataframe thead th {\n",
       "        text-align: right;\n",
       "    }\n",
       "</style>\n",
       "<table border=\"1\" class=\"dataframe\">\n",
       "  <thead>\n",
       "    <tr style=\"text-align: right;\">\n",
       "      <th></th>\n",
       "      <th>Transfer Learning ResNet</th>\n",
       "      <th>Our Own CNN Architecture</th>\n",
       "      <th>RandomForestClassifier</th>\n",
       "      <th>GaussianNB</th>\n",
       "      <th>DecisionTreeClassifier</th>\n",
       "      <th>KNeighborsClassifier_3</th>\n",
       "      <th>KNeighborsClassifier_11</th>\n",
       "      <th>KNeighborsClassifier_21</th>\n",
       "    </tr>\n",
       "  </thead>\n",
       "  <tbody>\n",
       "    <tr>\n",
       "      <th>Accuracy</th>\n",
       "      <td>0.815</td>\n",
       "      <td>0.475</td>\n",
       "      <td>0.294436</td>\n",
       "      <td>0.191654</td>\n",
       "      <td>0.188563</td>\n",
       "      <td>0.142195</td>\n",
       "      <td>0.161515</td>\n",
       "      <td>0.146832</td>\n",
       "    </tr>\n",
       "  </tbody>\n",
       "</table>\n",
       "</div>"
      ],
      "text/plain": [
       "          Transfer Learning ResNet  Our Own CNN Architecture  \\\n",
       "Accuracy                     0.815                     0.475   \n",
       "\n",
       "          RandomForestClassifier  GaussianNB  DecisionTreeClassifier  \\\n",
       "Accuracy                0.294436    0.191654                0.188563   \n",
       "\n",
       "          KNeighborsClassifier_3  KNeighborsClassifier_11  \\\n",
       "Accuracy                0.142195                 0.161515   \n",
       "\n",
       "          KNeighborsClassifier_21  \n",
       "Accuracy                 0.146832  "
      ]
     },
     "execution_count": 15,
     "metadata": {},
     "output_type": "execute_result"
    }
   ],
   "source": [
    "import pandas as pd\n",
    "pd.DataFrame(np.array(accuracy_li).T, columns=labels, index=['Accuracy'])"
   ]
  },
  {
   "cell_type": "code",
   "execution_count": null,
   "id": "3c3fd176",
   "metadata": {
    "papermill": {
     "duration": 0.008867,
     "end_time": "2023-11-23T03:47:18.114060",
     "exception": false,
     "start_time": "2023-11-23T03:47:18.105193",
     "status": "completed"
    },
    "tags": []
   },
   "outputs": [],
   "source": []
  }
 ],
 "metadata": {
  "kaggle": {
   "accelerator": "none",
   "dataSources": [
    {
     "datasetId": 3709047,
     "isSourceIdPinned": true,
     "sourceId": 6806828,
     "sourceType": "datasetVersion"
    }
   ],
   "dockerImageVersionId": 30587,
   "isGpuEnabled": false,
   "isInternetEnabled": true,
   "language": "python",
   "sourceType": "notebook"
  },
  "kernelspec": {
   "display_name": "Python 3",
   "language": "python",
   "name": "python3"
  },
  "language_info": {
   "codemirror_mode": {
    "name": "ipython",
    "version": 3
   },
   "file_extension": ".py",
   "mimetype": "text/x-python",
   "name": "python",
   "nbconvert_exporter": "python",
   "pygments_lexer": "ipython3",
   "version": "3.10.12"
  },
  "papermill": {
   "default_parameters": {},
   "duration": 1587.382522,
   "end_time": "2023-11-23T03:47:19.058534",
   "environment_variables": {},
   "exception": null,
   "input_path": "__notebook__.ipynb",
   "output_path": "__notebook__.ipynb",
   "parameters": {},
   "start_time": "2023-11-23T03:20:51.676012",
   "version": "2.4.0"
  }
 },
 "nbformat": 4,
 "nbformat_minor": 5
}
